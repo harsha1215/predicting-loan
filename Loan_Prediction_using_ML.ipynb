{
  "cells": [
    {
      "cell_type": "markdown",
      "metadata": {
        "id": "31jGGGh1dzDL"
      },
      "source": [
        "**DATA COLLECTION AND PREPARATION**"
      ]
    },
    {
      "cell_type": "code",
      "execution_count": 1,
      "metadata": {
        "id": "oi_HP6jXTGM3"
      },
      "outputs": [],
      "source": [
        "# Importing Libraries\n",
        "import pandas as pd\n",
        "import numpy as np\n",
        "import pickle\n",
        "import matplotlib.pyplot as plt\n",
        "%matplotlib inline\n",
        "import seaborn as sns\n",
        "import sklearn\n",
        "from sklearn.tree import DecisionTreeClassifier\n",
        "from sklearn.ensemble import GradientBoostingClassifier, RandomForestClassifier\n",
        "from sklearn.neighbors import KNeighborsClassifier\n",
        "from sklearn.model_selection import RandomizedSearchCV\n",
        "import imblearn\n",
        "from sklearn.model_selection import train_test_split\n",
        "from sklearn.preprocessing import StandardScaler\n",
        "from sklearn.metrics import accuracy_score, classification_report, confusion_matrix, f1_score"
      ]
    },
    {
      "cell_type": "code",
      "execution_count": 2,
      "metadata": {
        "id": "h6keMvxCc6wr"
      },
      "outputs": [
        {
          "data": {
            "text/html": [
              "<div>\n",
              "<style scoped>\n",
              "    .dataframe tbody tr th:only-of-type {\n",
              "        vertical-align: middle;\n",
              "    }\n",
              "\n",
              "    .dataframe tbody tr th {\n",
              "        vertical-align: top;\n",
              "    }\n",
              "\n",
              "    .dataframe thead th {\n",
              "        text-align: right;\n",
              "    }\n",
              "</style>\n",
              "<table border=\"1\" class=\"dataframe\">\n",
              "  <thead>\n",
              "    <tr style=\"text-align: right;\">\n",
              "      <th></th>\n",
              "      <th>Loan_ID</th>\n",
              "      <th>Gender</th>\n",
              "      <th>Married</th>\n",
              "      <th>Dependents</th>\n",
              "      <th>Education</th>\n",
              "      <th>Self_Employed</th>\n",
              "      <th>ApplicantIncome</th>\n",
              "      <th>CoapplicantIncome</th>\n",
              "      <th>LoanAmount</th>\n",
              "      <th>Loan_Amount_Term</th>\n",
              "      <th>Credit_History</th>\n",
              "      <th>Property_Area</th>\n",
              "      <th>Loan_Status</th>\n",
              "    </tr>\n",
              "  </thead>\n",
              "  <tbody>\n",
              "    <tr>\n",
              "      <th>0</th>\n",
              "      <td>LP001002</td>\n",
              "      <td>Male</td>\n",
              "      <td>No</td>\n",
              "      <td>0</td>\n",
              "      <td>Graduate</td>\n",
              "      <td>No</td>\n",
              "      <td>5849</td>\n",
              "      <td>0.0</td>\n",
              "      <td>NaN</td>\n",
              "      <td>360.0</td>\n",
              "      <td>1.0</td>\n",
              "      <td>Urban</td>\n",
              "      <td>Y</td>\n",
              "    </tr>\n",
              "    <tr>\n",
              "      <th>1</th>\n",
              "      <td>LP001003</td>\n",
              "      <td>Male</td>\n",
              "      <td>Yes</td>\n",
              "      <td>1</td>\n",
              "      <td>Graduate</td>\n",
              "      <td>No</td>\n",
              "      <td>4583</td>\n",
              "      <td>1508.0</td>\n",
              "      <td>128.0</td>\n",
              "      <td>360.0</td>\n",
              "      <td>1.0</td>\n",
              "      <td>Rural</td>\n",
              "      <td>N</td>\n",
              "    </tr>\n",
              "    <tr>\n",
              "      <th>2</th>\n",
              "      <td>LP001005</td>\n",
              "      <td>Male</td>\n",
              "      <td>Yes</td>\n",
              "      <td>0</td>\n",
              "      <td>Graduate</td>\n",
              "      <td>Yes</td>\n",
              "      <td>3000</td>\n",
              "      <td>0.0</td>\n",
              "      <td>66.0</td>\n",
              "      <td>360.0</td>\n",
              "      <td>1.0</td>\n",
              "      <td>Urban</td>\n",
              "      <td>Y</td>\n",
              "    </tr>\n",
              "    <tr>\n",
              "      <th>3</th>\n",
              "      <td>LP001006</td>\n",
              "      <td>Male</td>\n",
              "      <td>Yes</td>\n",
              "      <td>0</td>\n",
              "      <td>Not Graduate</td>\n",
              "      <td>No</td>\n",
              "      <td>2583</td>\n",
              "      <td>2358.0</td>\n",
              "      <td>120.0</td>\n",
              "      <td>360.0</td>\n",
              "      <td>1.0</td>\n",
              "      <td>Urban</td>\n",
              "      <td>Y</td>\n",
              "    </tr>\n",
              "    <tr>\n",
              "      <th>4</th>\n",
              "      <td>LP001008</td>\n",
              "      <td>Male</td>\n",
              "      <td>No</td>\n",
              "      <td>0</td>\n",
              "      <td>Graduate</td>\n",
              "      <td>No</td>\n",
              "      <td>6000</td>\n",
              "      <td>0.0</td>\n",
              "      <td>141.0</td>\n",
              "      <td>360.0</td>\n",
              "      <td>1.0</td>\n",
              "      <td>Urban</td>\n",
              "      <td>Y</td>\n",
              "    </tr>\n",
              "    <tr>\n",
              "      <th>...</th>\n",
              "      <td>...</td>\n",
              "      <td>...</td>\n",
              "      <td>...</td>\n",
              "      <td>...</td>\n",
              "      <td>...</td>\n",
              "      <td>...</td>\n",
              "      <td>...</td>\n",
              "      <td>...</td>\n",
              "      <td>...</td>\n",
              "      <td>...</td>\n",
              "      <td>...</td>\n",
              "      <td>...</td>\n",
              "      <td>...</td>\n",
              "    </tr>\n",
              "    <tr>\n",
              "      <th>609</th>\n",
              "      <td>LP002978</td>\n",
              "      <td>Female</td>\n",
              "      <td>No</td>\n",
              "      <td>0</td>\n",
              "      <td>Graduate</td>\n",
              "      <td>No</td>\n",
              "      <td>2900</td>\n",
              "      <td>0.0</td>\n",
              "      <td>71.0</td>\n",
              "      <td>360.0</td>\n",
              "      <td>1.0</td>\n",
              "      <td>Rural</td>\n",
              "      <td>Y</td>\n",
              "    </tr>\n",
              "    <tr>\n",
              "      <th>610</th>\n",
              "      <td>LP002979</td>\n",
              "      <td>Male</td>\n",
              "      <td>Yes</td>\n",
              "      <td>3+</td>\n",
              "      <td>Graduate</td>\n",
              "      <td>No</td>\n",
              "      <td>4106</td>\n",
              "      <td>0.0</td>\n",
              "      <td>40.0</td>\n",
              "      <td>180.0</td>\n",
              "      <td>1.0</td>\n",
              "      <td>Rural</td>\n",
              "      <td>Y</td>\n",
              "    </tr>\n",
              "    <tr>\n",
              "      <th>611</th>\n",
              "      <td>LP002983</td>\n",
              "      <td>Male</td>\n",
              "      <td>Yes</td>\n",
              "      <td>1</td>\n",
              "      <td>Graduate</td>\n",
              "      <td>No</td>\n",
              "      <td>8072</td>\n",
              "      <td>240.0</td>\n",
              "      <td>253.0</td>\n",
              "      <td>360.0</td>\n",
              "      <td>1.0</td>\n",
              "      <td>Urban</td>\n",
              "      <td>Y</td>\n",
              "    </tr>\n",
              "    <tr>\n",
              "      <th>612</th>\n",
              "      <td>LP002984</td>\n",
              "      <td>Male</td>\n",
              "      <td>Yes</td>\n",
              "      <td>2</td>\n",
              "      <td>Graduate</td>\n",
              "      <td>No</td>\n",
              "      <td>7583</td>\n",
              "      <td>0.0</td>\n",
              "      <td>187.0</td>\n",
              "      <td>360.0</td>\n",
              "      <td>1.0</td>\n",
              "      <td>Urban</td>\n",
              "      <td>Y</td>\n",
              "    </tr>\n",
              "    <tr>\n",
              "      <th>613</th>\n",
              "      <td>LP002990</td>\n",
              "      <td>Female</td>\n",
              "      <td>No</td>\n",
              "      <td>0</td>\n",
              "      <td>Graduate</td>\n",
              "      <td>Yes</td>\n",
              "      <td>4583</td>\n",
              "      <td>0.0</td>\n",
              "      <td>133.0</td>\n",
              "      <td>360.0</td>\n",
              "      <td>0.0</td>\n",
              "      <td>Semiurban</td>\n",
              "      <td>N</td>\n",
              "    </tr>\n",
              "  </tbody>\n",
              "</table>\n",
              "<p>614 rows × 13 columns</p>\n",
              "</div>"
            ],
            "text/plain": [
              "      Loan_ID  Gender Married Dependents     Education Self_Employed  \\\n",
              "0    LP001002    Male      No          0      Graduate            No   \n",
              "1    LP001003    Male     Yes          1      Graduate            No   \n",
              "2    LP001005    Male     Yes          0      Graduate           Yes   \n",
              "3    LP001006    Male     Yes          0  Not Graduate            No   \n",
              "4    LP001008    Male      No          0      Graduate            No   \n",
              "..        ...     ...     ...        ...           ...           ...   \n",
              "609  LP002978  Female      No          0      Graduate            No   \n",
              "610  LP002979    Male     Yes         3+      Graduate            No   \n",
              "611  LP002983    Male     Yes          1      Graduate            No   \n",
              "612  LP002984    Male     Yes          2      Graduate            No   \n",
              "613  LP002990  Female      No          0      Graduate           Yes   \n",
              "\n",
              "     ApplicantIncome  CoapplicantIncome  LoanAmount  Loan_Amount_Term  \\\n",
              "0               5849                0.0         NaN             360.0   \n",
              "1               4583             1508.0       128.0             360.0   \n",
              "2               3000                0.0        66.0             360.0   \n",
              "3               2583             2358.0       120.0             360.0   \n",
              "4               6000                0.0       141.0             360.0   \n",
              "..               ...                ...         ...               ...   \n",
              "609             2900                0.0        71.0             360.0   \n",
              "610             4106                0.0        40.0             180.0   \n",
              "611             8072              240.0       253.0             360.0   \n",
              "612             7583                0.0       187.0             360.0   \n",
              "613             4583                0.0       133.0             360.0   \n",
              "\n",
              "     Credit_History Property_Area Loan_Status  \n",
              "0               1.0         Urban           Y  \n",
              "1               1.0         Rural           N  \n",
              "2               1.0         Urban           Y  \n",
              "3               1.0         Urban           Y  \n",
              "4               1.0         Urban           Y  \n",
              "..              ...           ...         ...  \n",
              "609             1.0         Rural           Y  \n",
              "610             1.0         Rural           Y  \n",
              "611             1.0         Urban           Y  \n",
              "612             1.0         Urban           Y  \n",
              "613             0.0     Semiurban           N  \n",
              "\n",
              "[614 rows x 13 columns]"
            ]
          },
          "execution_count": 2,
          "metadata": {},
          "output_type": "execute_result"
        }
      ],
      "source": [
        "data = pd.read_csv('loan_prediction.csv')\n",
        "data"
      ]
    },
    {
      "cell_type": "code",
      "execution_count": 3,
      "metadata": {
        "id": "hPSSr10Ze2so"
      },
      "outputs": [
        {
          "name": "stdout",
          "output_type": "stream",
          "text": [
            "<class 'pandas.core.frame.DataFrame'>\n",
            "RangeIndex: 614 entries, 0 to 613\n",
            "Data columns (total 13 columns):\n",
            " #   Column             Non-Null Count  Dtype  \n",
            "---  ------             --------------  -----  \n",
            " 0   Loan_ID            614 non-null    object \n",
            " 1   Gender             601 non-null    object \n",
            " 2   Married            611 non-null    object \n",
            " 3   Dependents         599 non-null    object \n",
            " 4   Education          614 non-null    object \n",
            " 5   Self_Employed      582 non-null    object \n",
            " 6   ApplicantIncome    614 non-null    int64  \n",
            " 7   CoapplicantIncome  614 non-null    float64\n",
            " 8   LoanAmount         592 non-null    float64\n",
            " 9   Loan_Amount_Term   600 non-null    float64\n",
            " 10  Credit_History     564 non-null    float64\n",
            " 11  Property_Area      614 non-null    object \n",
            " 12  Loan_Status        614 non-null    object \n",
            "dtypes: float64(4), int64(1), object(8)\n",
            "memory usage: 62.5+ KB\n"
          ]
        }
      ],
      "source": [
        "data.info()"
      ]
    },
    {
      "cell_type": "code",
      "execution_count": 4,
      "metadata": {
        "id": "lC_iTr1XUdB5"
      },
      "outputs": [
        {
          "data": {
            "text/plain": [
              "Loan_ID               0\n",
              "Gender               13\n",
              "Married               3\n",
              "Dependents           15\n",
              "Education             0\n",
              "Self_Employed        32\n",
              "ApplicantIncome       0\n",
              "CoapplicantIncome     0\n",
              "LoanAmount           22\n",
              "Loan_Amount_Term     14\n",
              "Credit_History       50\n",
              "Property_Area         0\n",
              "Loan_Status           0\n",
              "dtype: int64"
            ]
          },
          "execution_count": 4,
          "metadata": {},
          "output_type": "execute_result"
        }
      ],
      "source": [
        "data.isnull().sum()"
      ]
    },
    {
      "cell_type": "code",
      "execution_count": 5,
      "metadata": {
        "id": "7GUG78veBrLy"
      },
      "outputs": [],
      "source": [
        "# Dropping Loan_ID column\n",
        "data.drop(['Loan_ID'],axis=1,inplace=True)"
      ]
    },
    {
      "cell_type": "code",
      "execution_count": 6,
      "metadata": {
        "id": "s3sTo5sOUczl"
      },
      "outputs": [
        {
          "name": "stderr",
          "output_type": "stream",
          "text": [
            "/var/folders/wz/16zkmzc90kxby1t66xr58zhm0000gn/T/ipykernel_53199/871284480.py:5: FutureWarning: The default value of regex will change from True to False in a future version. In addition, single character regular expressions will *not* be treated as literal strings when regex=True.\n",
            "  data['Dependents']=data['Dependents'].str.replace('+','')\n"
          ]
        }
      ],
      "source": [
        "data['Gender'] = data['Gender'].fillna(data['Gender'].mode()[0])\n",
        "data['Married'] = data['Married'].fillna(data['Married'].mode()[0])\n",
        "\n",
        "#replacing + with space for filling the nan values\n",
        "data['Dependents']=data['Dependents'].str.replace('+','')\n",
        "data['Dependents'] = data['Dependents'].fillna(data['Dependents'].mode()[0])\n",
        "data['Self_Employed'] = data['Self_Employed'].fillna (data['Self_Employed'].mode()[0])\n",
        "data['LoanAmount'] = data['LoanAmount'].fillna(data['LoanAmount'].mode()[0])\n",
        "data['Loan_Amount_Term'] = data['Loan_Amount_Term'].fillna(data['Loan_Amount_Term'].mode()[0])\n",
        "data['Credit_History'] = data['Credit_History'].fillna (data['Credit_History'].mode()[0])"
      ]
    },
    {
      "cell_type": "code",
      "execution_count": 7,
      "metadata": {
        "id": "5D_dpz3Oz_5H"
      },
      "outputs": [
        {
          "data": {
            "text/html": [
              "<div>\n",
              "<style scoped>\n",
              "    .dataframe tbody tr th:only-of-type {\n",
              "        vertical-align: middle;\n",
              "    }\n",
              "\n",
              "    .dataframe tbody tr th {\n",
              "        vertical-align: top;\n",
              "    }\n",
              "\n",
              "    .dataframe thead th {\n",
              "        text-align: right;\n",
              "    }\n",
              "</style>\n",
              "<table border=\"1\" class=\"dataframe\">\n",
              "  <thead>\n",
              "    <tr style=\"text-align: right;\">\n",
              "      <th></th>\n",
              "      <th>Gender</th>\n",
              "      <th>Married</th>\n",
              "      <th>Dependents</th>\n",
              "      <th>Education</th>\n",
              "      <th>Self_Employed</th>\n",
              "      <th>ApplicantIncome</th>\n",
              "      <th>CoapplicantIncome</th>\n",
              "      <th>LoanAmount</th>\n",
              "      <th>Loan_Amount_Term</th>\n",
              "      <th>Credit_History</th>\n",
              "      <th>Property_Area</th>\n",
              "      <th>Loan_Status</th>\n",
              "    </tr>\n",
              "  </thead>\n",
              "  <tbody>\n",
              "    <tr>\n",
              "      <th>0</th>\n",
              "      <td>Male</td>\n",
              "      <td>No</td>\n",
              "      <td>0</td>\n",
              "      <td>Graduate</td>\n",
              "      <td>No</td>\n",
              "      <td>5849</td>\n",
              "      <td>0.0</td>\n",
              "      <td>120.0</td>\n",
              "      <td>360.0</td>\n",
              "      <td>1.0</td>\n",
              "      <td>Urban</td>\n",
              "      <td>Y</td>\n",
              "    </tr>\n",
              "    <tr>\n",
              "      <th>1</th>\n",
              "      <td>Male</td>\n",
              "      <td>Yes</td>\n",
              "      <td>1</td>\n",
              "      <td>Graduate</td>\n",
              "      <td>No</td>\n",
              "      <td>4583</td>\n",
              "      <td>1508.0</td>\n",
              "      <td>128.0</td>\n",
              "      <td>360.0</td>\n",
              "      <td>1.0</td>\n",
              "      <td>Rural</td>\n",
              "      <td>N</td>\n",
              "    </tr>\n",
              "    <tr>\n",
              "      <th>2</th>\n",
              "      <td>Male</td>\n",
              "      <td>Yes</td>\n",
              "      <td>0</td>\n",
              "      <td>Graduate</td>\n",
              "      <td>Yes</td>\n",
              "      <td>3000</td>\n",
              "      <td>0.0</td>\n",
              "      <td>66.0</td>\n",
              "      <td>360.0</td>\n",
              "      <td>1.0</td>\n",
              "      <td>Urban</td>\n",
              "      <td>Y</td>\n",
              "    </tr>\n",
              "    <tr>\n",
              "      <th>3</th>\n",
              "      <td>Male</td>\n",
              "      <td>Yes</td>\n",
              "      <td>0</td>\n",
              "      <td>Not Graduate</td>\n",
              "      <td>No</td>\n",
              "      <td>2583</td>\n",
              "      <td>2358.0</td>\n",
              "      <td>120.0</td>\n",
              "      <td>360.0</td>\n",
              "      <td>1.0</td>\n",
              "      <td>Urban</td>\n",
              "      <td>Y</td>\n",
              "    </tr>\n",
              "    <tr>\n",
              "      <th>4</th>\n",
              "      <td>Male</td>\n",
              "      <td>No</td>\n",
              "      <td>0</td>\n",
              "      <td>Graduate</td>\n",
              "      <td>No</td>\n",
              "      <td>6000</td>\n",
              "      <td>0.0</td>\n",
              "      <td>141.0</td>\n",
              "      <td>360.0</td>\n",
              "      <td>1.0</td>\n",
              "      <td>Urban</td>\n",
              "      <td>Y</td>\n",
              "    </tr>\n",
              "    <tr>\n",
              "      <th>...</th>\n",
              "      <td>...</td>\n",
              "      <td>...</td>\n",
              "      <td>...</td>\n",
              "      <td>...</td>\n",
              "      <td>...</td>\n",
              "      <td>...</td>\n",
              "      <td>...</td>\n",
              "      <td>...</td>\n",
              "      <td>...</td>\n",
              "      <td>...</td>\n",
              "      <td>...</td>\n",
              "      <td>...</td>\n",
              "    </tr>\n",
              "    <tr>\n",
              "      <th>609</th>\n",
              "      <td>Female</td>\n",
              "      <td>No</td>\n",
              "      <td>0</td>\n",
              "      <td>Graduate</td>\n",
              "      <td>No</td>\n",
              "      <td>2900</td>\n",
              "      <td>0.0</td>\n",
              "      <td>71.0</td>\n",
              "      <td>360.0</td>\n",
              "      <td>1.0</td>\n",
              "      <td>Rural</td>\n",
              "      <td>Y</td>\n",
              "    </tr>\n",
              "    <tr>\n",
              "      <th>610</th>\n",
              "      <td>Male</td>\n",
              "      <td>Yes</td>\n",
              "      <td>3</td>\n",
              "      <td>Graduate</td>\n",
              "      <td>No</td>\n",
              "      <td>4106</td>\n",
              "      <td>0.0</td>\n",
              "      <td>40.0</td>\n",
              "      <td>180.0</td>\n",
              "      <td>1.0</td>\n",
              "      <td>Rural</td>\n",
              "      <td>Y</td>\n",
              "    </tr>\n",
              "    <tr>\n",
              "      <th>611</th>\n",
              "      <td>Male</td>\n",
              "      <td>Yes</td>\n",
              "      <td>1</td>\n",
              "      <td>Graduate</td>\n",
              "      <td>No</td>\n",
              "      <td>8072</td>\n",
              "      <td>240.0</td>\n",
              "      <td>253.0</td>\n",
              "      <td>360.0</td>\n",
              "      <td>1.0</td>\n",
              "      <td>Urban</td>\n",
              "      <td>Y</td>\n",
              "    </tr>\n",
              "    <tr>\n",
              "      <th>612</th>\n",
              "      <td>Male</td>\n",
              "      <td>Yes</td>\n",
              "      <td>2</td>\n",
              "      <td>Graduate</td>\n",
              "      <td>No</td>\n",
              "      <td>7583</td>\n",
              "      <td>0.0</td>\n",
              "      <td>187.0</td>\n",
              "      <td>360.0</td>\n",
              "      <td>1.0</td>\n",
              "      <td>Urban</td>\n",
              "      <td>Y</td>\n",
              "    </tr>\n",
              "    <tr>\n",
              "      <th>613</th>\n",
              "      <td>Female</td>\n",
              "      <td>No</td>\n",
              "      <td>0</td>\n",
              "      <td>Graduate</td>\n",
              "      <td>Yes</td>\n",
              "      <td>4583</td>\n",
              "      <td>0.0</td>\n",
              "      <td>133.0</td>\n",
              "      <td>360.0</td>\n",
              "      <td>0.0</td>\n",
              "      <td>Semiurban</td>\n",
              "      <td>N</td>\n",
              "    </tr>\n",
              "  </tbody>\n",
              "</table>\n",
              "<p>614 rows × 12 columns</p>\n",
              "</div>"
            ],
            "text/plain": [
              "     Gender Married Dependents     Education Self_Employed  ApplicantIncome  \\\n",
              "0      Male      No          0      Graduate            No             5849   \n",
              "1      Male     Yes          1      Graduate            No             4583   \n",
              "2      Male     Yes          0      Graduate           Yes             3000   \n",
              "3      Male     Yes          0  Not Graduate            No             2583   \n",
              "4      Male      No          0      Graduate            No             6000   \n",
              "..      ...     ...        ...           ...           ...              ...   \n",
              "609  Female      No          0      Graduate            No             2900   \n",
              "610    Male     Yes          3      Graduate            No             4106   \n",
              "611    Male     Yes          1      Graduate            No             8072   \n",
              "612    Male     Yes          2      Graduate            No             7583   \n",
              "613  Female      No          0      Graduate           Yes             4583   \n",
              "\n",
              "     CoapplicantIncome  LoanAmount  Loan_Amount_Term  Credit_History  \\\n",
              "0                  0.0       120.0             360.0             1.0   \n",
              "1               1508.0       128.0             360.0             1.0   \n",
              "2                  0.0        66.0             360.0             1.0   \n",
              "3               2358.0       120.0             360.0             1.0   \n",
              "4                  0.0       141.0             360.0             1.0   \n",
              "..                 ...         ...               ...             ...   \n",
              "609                0.0        71.0             360.0             1.0   \n",
              "610                0.0        40.0             180.0             1.0   \n",
              "611              240.0       253.0             360.0             1.0   \n",
              "612                0.0       187.0             360.0             1.0   \n",
              "613                0.0       133.0             360.0             0.0   \n",
              "\n",
              "    Property_Area Loan_Status  \n",
              "0           Urban           Y  \n",
              "1           Rural           N  \n",
              "2           Urban           Y  \n",
              "3           Urban           Y  \n",
              "4           Urban           Y  \n",
              "..            ...         ...  \n",
              "609         Rural           Y  \n",
              "610         Rural           Y  \n",
              "611         Urban           Y  \n",
              "612         Urban           Y  \n",
              "613     Semiurban           N  \n",
              "\n",
              "[614 rows x 12 columns]"
            ]
          },
          "execution_count": 7,
          "metadata": {},
          "output_type": "execute_result"
        }
      ],
      "source": [
        "data"
      ]
    },
    {
      "cell_type": "code",
      "execution_count": 8,
      "metadata": {
        "id": "EOW2eBDiB63g"
      },
      "outputs": [],
      "source": [
        "# Import label encoder\n",
        "from sklearn import preprocessing\n",
        "\n",
        "# label_encoder object knows how\n",
        "# to understand word labels.\n",
        "label_encoder = preprocessing.LabelEncoder()\n",
        "obj = (data.dtypes == 'object')\n",
        "for col in list(obj[obj].index):\n",
        "  data[col] = label_encoder.fit_transform(data[col])\n"
      ]
    },
    {
      "cell_type": "code",
      "execution_count": 9,
      "metadata": {
        "id": "GZXDQCU2CN0g"
      },
      "outputs": [
        {
          "data": {
            "text/html": [
              "<div>\n",
              "<style scoped>\n",
              "    .dataframe tbody tr th:only-of-type {\n",
              "        vertical-align: middle;\n",
              "    }\n",
              "\n",
              "    .dataframe tbody tr th {\n",
              "        vertical-align: top;\n",
              "    }\n",
              "\n",
              "    .dataframe thead th {\n",
              "        text-align: right;\n",
              "    }\n",
              "</style>\n",
              "<table border=\"1\" class=\"dataframe\">\n",
              "  <thead>\n",
              "    <tr style=\"text-align: right;\">\n",
              "      <th></th>\n",
              "      <th>Gender</th>\n",
              "      <th>Married</th>\n",
              "      <th>Dependents</th>\n",
              "      <th>Education</th>\n",
              "      <th>Self_Employed</th>\n",
              "      <th>ApplicantIncome</th>\n",
              "      <th>CoapplicantIncome</th>\n",
              "      <th>LoanAmount</th>\n",
              "      <th>Loan_Amount_Term</th>\n",
              "      <th>Credit_History</th>\n",
              "      <th>Property_Area</th>\n",
              "      <th>Loan_Status</th>\n",
              "    </tr>\n",
              "  </thead>\n",
              "  <tbody>\n",
              "    <tr>\n",
              "      <th>0</th>\n",
              "      <td>1</td>\n",
              "      <td>0</td>\n",
              "      <td>0</td>\n",
              "      <td>0</td>\n",
              "      <td>0</td>\n",
              "      <td>5849</td>\n",
              "      <td>0.0</td>\n",
              "      <td>120.0</td>\n",
              "      <td>360.0</td>\n",
              "      <td>1.0</td>\n",
              "      <td>2</td>\n",
              "      <td>1</td>\n",
              "    </tr>\n",
              "    <tr>\n",
              "      <th>1</th>\n",
              "      <td>1</td>\n",
              "      <td>1</td>\n",
              "      <td>1</td>\n",
              "      <td>0</td>\n",
              "      <td>0</td>\n",
              "      <td>4583</td>\n",
              "      <td>1508.0</td>\n",
              "      <td>128.0</td>\n",
              "      <td>360.0</td>\n",
              "      <td>1.0</td>\n",
              "      <td>0</td>\n",
              "      <td>0</td>\n",
              "    </tr>\n",
              "    <tr>\n",
              "      <th>2</th>\n",
              "      <td>1</td>\n",
              "      <td>1</td>\n",
              "      <td>0</td>\n",
              "      <td>0</td>\n",
              "      <td>1</td>\n",
              "      <td>3000</td>\n",
              "      <td>0.0</td>\n",
              "      <td>66.0</td>\n",
              "      <td>360.0</td>\n",
              "      <td>1.0</td>\n",
              "      <td>2</td>\n",
              "      <td>1</td>\n",
              "    </tr>\n",
              "    <tr>\n",
              "      <th>3</th>\n",
              "      <td>1</td>\n",
              "      <td>1</td>\n",
              "      <td>0</td>\n",
              "      <td>1</td>\n",
              "      <td>0</td>\n",
              "      <td>2583</td>\n",
              "      <td>2358.0</td>\n",
              "      <td>120.0</td>\n",
              "      <td>360.0</td>\n",
              "      <td>1.0</td>\n",
              "      <td>2</td>\n",
              "      <td>1</td>\n",
              "    </tr>\n",
              "    <tr>\n",
              "      <th>4</th>\n",
              "      <td>1</td>\n",
              "      <td>0</td>\n",
              "      <td>0</td>\n",
              "      <td>0</td>\n",
              "      <td>0</td>\n",
              "      <td>6000</td>\n",
              "      <td>0.0</td>\n",
              "      <td>141.0</td>\n",
              "      <td>360.0</td>\n",
              "      <td>1.0</td>\n",
              "      <td>2</td>\n",
              "      <td>1</td>\n",
              "    </tr>\n",
              "    <tr>\n",
              "      <th>...</th>\n",
              "      <td>...</td>\n",
              "      <td>...</td>\n",
              "      <td>...</td>\n",
              "      <td>...</td>\n",
              "      <td>...</td>\n",
              "      <td>...</td>\n",
              "      <td>...</td>\n",
              "      <td>...</td>\n",
              "      <td>...</td>\n",
              "      <td>...</td>\n",
              "      <td>...</td>\n",
              "      <td>...</td>\n",
              "    </tr>\n",
              "    <tr>\n",
              "      <th>609</th>\n",
              "      <td>0</td>\n",
              "      <td>0</td>\n",
              "      <td>0</td>\n",
              "      <td>0</td>\n",
              "      <td>0</td>\n",
              "      <td>2900</td>\n",
              "      <td>0.0</td>\n",
              "      <td>71.0</td>\n",
              "      <td>360.0</td>\n",
              "      <td>1.0</td>\n",
              "      <td>0</td>\n",
              "      <td>1</td>\n",
              "    </tr>\n",
              "    <tr>\n",
              "      <th>610</th>\n",
              "      <td>1</td>\n",
              "      <td>1</td>\n",
              "      <td>3</td>\n",
              "      <td>0</td>\n",
              "      <td>0</td>\n",
              "      <td>4106</td>\n",
              "      <td>0.0</td>\n",
              "      <td>40.0</td>\n",
              "      <td>180.0</td>\n",
              "      <td>1.0</td>\n",
              "      <td>0</td>\n",
              "      <td>1</td>\n",
              "    </tr>\n",
              "    <tr>\n",
              "      <th>611</th>\n",
              "      <td>1</td>\n",
              "      <td>1</td>\n",
              "      <td>1</td>\n",
              "      <td>0</td>\n",
              "      <td>0</td>\n",
              "      <td>8072</td>\n",
              "      <td>240.0</td>\n",
              "      <td>253.0</td>\n",
              "      <td>360.0</td>\n",
              "      <td>1.0</td>\n",
              "      <td>2</td>\n",
              "      <td>1</td>\n",
              "    </tr>\n",
              "    <tr>\n",
              "      <th>612</th>\n",
              "      <td>1</td>\n",
              "      <td>1</td>\n",
              "      <td>2</td>\n",
              "      <td>0</td>\n",
              "      <td>0</td>\n",
              "      <td>7583</td>\n",
              "      <td>0.0</td>\n",
              "      <td>187.0</td>\n",
              "      <td>360.0</td>\n",
              "      <td>1.0</td>\n",
              "      <td>2</td>\n",
              "      <td>1</td>\n",
              "    </tr>\n",
              "    <tr>\n",
              "      <th>613</th>\n",
              "      <td>0</td>\n",
              "      <td>0</td>\n",
              "      <td>0</td>\n",
              "      <td>0</td>\n",
              "      <td>1</td>\n",
              "      <td>4583</td>\n",
              "      <td>0.0</td>\n",
              "      <td>133.0</td>\n",
              "      <td>360.0</td>\n",
              "      <td>0.0</td>\n",
              "      <td>1</td>\n",
              "      <td>0</td>\n",
              "    </tr>\n",
              "  </tbody>\n",
              "</table>\n",
              "<p>614 rows × 12 columns</p>\n",
              "</div>"
            ],
            "text/plain": [
              "     Gender  Married  Dependents  Education  Self_Employed  ApplicantIncome  \\\n",
              "0         1        0           0          0              0             5849   \n",
              "1         1        1           1          0              0             4583   \n",
              "2         1        1           0          0              1             3000   \n",
              "3         1        1           0          1              0             2583   \n",
              "4         1        0           0          0              0             6000   \n",
              "..      ...      ...         ...        ...            ...              ...   \n",
              "609       0        0           0          0              0             2900   \n",
              "610       1        1           3          0              0             4106   \n",
              "611       1        1           1          0              0             8072   \n",
              "612       1        1           2          0              0             7583   \n",
              "613       0        0           0          0              1             4583   \n",
              "\n",
              "     CoapplicantIncome  LoanAmount  Loan_Amount_Term  Credit_History  \\\n",
              "0                  0.0       120.0             360.0             1.0   \n",
              "1               1508.0       128.0             360.0             1.0   \n",
              "2                  0.0        66.0             360.0             1.0   \n",
              "3               2358.0       120.0             360.0             1.0   \n",
              "4                  0.0       141.0             360.0             1.0   \n",
              "..                 ...         ...               ...             ...   \n",
              "609                0.0        71.0             360.0             1.0   \n",
              "610                0.0        40.0             180.0             1.0   \n",
              "611              240.0       253.0             360.0             1.0   \n",
              "612                0.0       187.0             360.0             1.0   \n",
              "613                0.0       133.0             360.0             0.0   \n",
              "\n",
              "     Property_Area  Loan_Status  \n",
              "0                2            1  \n",
              "1                0            0  \n",
              "2                2            1  \n",
              "3                2            1  \n",
              "4                2            1  \n",
              "..             ...          ...  \n",
              "609              0            1  \n",
              "610              0            1  \n",
              "611              2            1  \n",
              "612              2            1  \n",
              "613              1            0  \n",
              "\n",
              "[614 rows x 12 columns]"
            ]
          },
          "execution_count": 9,
          "metadata": {},
          "output_type": "execute_result"
        }
      ],
      "source": [
        "data"
      ]
    },
    {
      "cell_type": "code",
      "execution_count": 10,
      "metadata": {
        "id": "MhAWBd72fMRv"
      },
      "outputs": [],
      "source": [
        "#changing the datype of each float column to int\n",
        "\n",
        "data['Gender']=data['Gender'].astype('int64')\n",
        "data['Married']=data['Married'].astype('int64')\n",
        "data['Dependents']=data['Dependents'].astype('int64')\n",
        "data['Self_Employed' ]=data['Self_Employed'].astype('int64')\n",
        "data['CoapplicantIncome'] = data['CoapplicantIncome'].astype('int64')\n",
        "data['LoanAmount']=data['LoanAmount'].astype('int64')\n",
        "data['Loan_Amount_Term']=data['Loan_Amount_Term'].astype('int64')\n",
        "data['Credit_History']=data['Credit_History'].astype('int64')"
      ]
    },
    {
      "cell_type": "code",
      "execution_count": 11,
      "metadata": {
        "id": "si2lxCgJfMlL"
      },
      "outputs": [],
      "source": [
        "#Balancing the dataset by using smote\n",
        "from imblearn.combine import SMOTETomek\n",
        "smote = SMOTETomek()"
      ]
    },
    {
      "cell_type": "code",
      "execution_count": 12,
      "metadata": {
        "id": "71CYHdx4DFVh"
      },
      "outputs": [],
      "source": [
        "#dividing the dataset into dependent and independent y and x respectively\n",
        "y = data['Loan_Status']\n",
        "x = data.drop(columns=['Loan_Status'], axis=1)"
      ]
    },
    {
      "cell_type": "code",
      "execution_count": 13,
      "metadata": {
        "id": "aFhhvo56DKg3"
      },
      "outputs": [],
      "source": [
        "#creating a new x and y variables for the balnced set\n",
        "x_bal,y_bal = smote.fit_resample(x,y)"
      ]
    },
    {
      "cell_type": "code",
      "execution_count": 14,
      "metadata": {
        "id": "4iCBHSHxDQHu"
      },
      "outputs": [
        {
          "name": "stdout",
          "output_type": "stream",
          "text": [
            "1    422\n",
            "0    192\n",
            "Name: Loan_Status, dtype: int64\n",
            "1    353\n",
            "0    353\n",
            "Name: Loan_Status, dtype: int64\n"
          ]
        }
      ],
      "source": [
        "#printing the values of y before balancing the data and after\n",
        "print(y.value_counts())\n",
        "print(y_bal.value_counts())"
      ]
    },
    {
      "cell_type": "code",
      "execution_count": 15,
      "metadata": {
        "id": "sLf2IwveJ44-"
      },
      "outputs": [
        {
          "data": {
            "text/html": [
              "<div>\n",
              "<style scoped>\n",
              "    .dataframe tbody tr th:only-of-type {\n",
              "        vertical-align: middle;\n",
              "    }\n",
              "\n",
              "    .dataframe tbody tr th {\n",
              "        vertical-align: top;\n",
              "    }\n",
              "\n",
              "    .dataframe thead th {\n",
              "        text-align: right;\n",
              "    }\n",
              "</style>\n",
              "<table border=\"1\" class=\"dataframe\">\n",
              "  <thead>\n",
              "    <tr style=\"text-align: right;\">\n",
              "      <th></th>\n",
              "      <th>Gender</th>\n",
              "      <th>Married</th>\n",
              "      <th>Dependents</th>\n",
              "      <th>Education</th>\n",
              "      <th>Self_Employed</th>\n",
              "      <th>ApplicantIncome</th>\n",
              "      <th>CoapplicantIncome</th>\n",
              "      <th>LoanAmount</th>\n",
              "      <th>Loan_Amount_Term</th>\n",
              "      <th>Credit_History</th>\n",
              "      <th>Property_Area</th>\n",
              "    </tr>\n",
              "  </thead>\n",
              "  <tbody>\n",
              "    <tr>\n",
              "      <th>0</th>\n",
              "      <td>1</td>\n",
              "      <td>0</td>\n",
              "      <td>0</td>\n",
              "      <td>0</td>\n",
              "      <td>0</td>\n",
              "      <td>5849</td>\n",
              "      <td>0</td>\n",
              "      <td>120</td>\n",
              "      <td>360</td>\n",
              "      <td>1</td>\n",
              "      <td>2</td>\n",
              "    </tr>\n",
              "    <tr>\n",
              "      <th>1</th>\n",
              "      <td>1</td>\n",
              "      <td>1</td>\n",
              "      <td>1</td>\n",
              "      <td>0</td>\n",
              "      <td>0</td>\n",
              "      <td>4583</td>\n",
              "      <td>1508</td>\n",
              "      <td>128</td>\n",
              "      <td>360</td>\n",
              "      <td>1</td>\n",
              "      <td>0</td>\n",
              "    </tr>\n",
              "    <tr>\n",
              "      <th>2</th>\n",
              "      <td>1</td>\n",
              "      <td>1</td>\n",
              "      <td>0</td>\n",
              "      <td>0</td>\n",
              "      <td>1</td>\n",
              "      <td>3000</td>\n",
              "      <td>0</td>\n",
              "      <td>66</td>\n",
              "      <td>360</td>\n",
              "      <td>1</td>\n",
              "      <td>2</td>\n",
              "    </tr>\n",
              "    <tr>\n",
              "      <th>3</th>\n",
              "      <td>1</td>\n",
              "      <td>1</td>\n",
              "      <td>0</td>\n",
              "      <td>1</td>\n",
              "      <td>0</td>\n",
              "      <td>2583</td>\n",
              "      <td>2358</td>\n",
              "      <td>120</td>\n",
              "      <td>360</td>\n",
              "      <td>1</td>\n",
              "      <td>2</td>\n",
              "    </tr>\n",
              "    <tr>\n",
              "      <th>4</th>\n",
              "      <td>1</td>\n",
              "      <td>0</td>\n",
              "      <td>0</td>\n",
              "      <td>0</td>\n",
              "      <td>0</td>\n",
              "      <td>6000</td>\n",
              "      <td>0</td>\n",
              "      <td>141</td>\n",
              "      <td>360</td>\n",
              "      <td>1</td>\n",
              "      <td>2</td>\n",
              "    </tr>\n",
              "    <tr>\n",
              "      <th>...</th>\n",
              "      <td>...</td>\n",
              "      <td>...</td>\n",
              "      <td>...</td>\n",
              "      <td>...</td>\n",
              "      <td>...</td>\n",
              "      <td>...</td>\n",
              "      <td>...</td>\n",
              "      <td>...</td>\n",
              "      <td>...</td>\n",
              "      <td>...</td>\n",
              "      <td>...</td>\n",
              "    </tr>\n",
              "    <tr>\n",
              "      <th>701</th>\n",
              "      <td>1</td>\n",
              "      <td>0</td>\n",
              "      <td>0</td>\n",
              "      <td>0</td>\n",
              "      <td>0</td>\n",
              "      <td>2414</td>\n",
              "      <td>0</td>\n",
              "      <td>102</td>\n",
              "      <td>433</td>\n",
              "      <td>1</td>\n",
              "      <td>0</td>\n",
              "    </tr>\n",
              "    <tr>\n",
              "      <th>702</th>\n",
              "      <td>0</td>\n",
              "      <td>0</td>\n",
              "      <td>0</td>\n",
              "      <td>0</td>\n",
              "      <td>0</td>\n",
              "      <td>3763</td>\n",
              "      <td>0</td>\n",
              "      <td>107</td>\n",
              "      <td>466</td>\n",
              "      <td>1</td>\n",
              "      <td>1</td>\n",
              "    </tr>\n",
              "    <tr>\n",
              "      <th>703</th>\n",
              "      <td>0</td>\n",
              "      <td>0</td>\n",
              "      <td>0</td>\n",
              "      <td>0</td>\n",
              "      <td>0</td>\n",
              "      <td>3429</td>\n",
              "      <td>0</td>\n",
              "      <td>91</td>\n",
              "      <td>360</td>\n",
              "      <td>0</td>\n",
              "      <td>0</td>\n",
              "    </tr>\n",
              "    <tr>\n",
              "      <th>704</th>\n",
              "      <td>1</td>\n",
              "      <td>0</td>\n",
              "      <td>0</td>\n",
              "      <td>0</td>\n",
              "      <td>0</td>\n",
              "      <td>5932</td>\n",
              "      <td>3179</td>\n",
              "      <td>253</td>\n",
              "      <td>360</td>\n",
              "      <td>1</td>\n",
              "      <td>0</td>\n",
              "    </tr>\n",
              "    <tr>\n",
              "      <th>705</th>\n",
              "      <td>1</td>\n",
              "      <td>0</td>\n",
              "      <td>1</td>\n",
              "      <td>1</td>\n",
              "      <td>0</td>\n",
              "      <td>2727</td>\n",
              "      <td>1557</td>\n",
              "      <td>184</td>\n",
              "      <td>360</td>\n",
              "      <td>1</td>\n",
              "      <td>0</td>\n",
              "    </tr>\n",
              "  </tbody>\n",
              "</table>\n",
              "<p>706 rows × 11 columns</p>\n",
              "</div>"
            ],
            "text/plain": [
              "     Gender  Married  Dependents  Education  Self_Employed  ApplicantIncome  \\\n",
              "0         1        0           0          0              0             5849   \n",
              "1         1        1           1          0              0             4583   \n",
              "2         1        1           0          0              1             3000   \n",
              "3         1        1           0          1              0             2583   \n",
              "4         1        0           0          0              0             6000   \n",
              "..      ...      ...         ...        ...            ...              ...   \n",
              "701       1        0           0          0              0             2414   \n",
              "702       0        0           0          0              0             3763   \n",
              "703       0        0           0          0              0             3429   \n",
              "704       1        0           0          0              0             5932   \n",
              "705       1        0           1          1              0             2727   \n",
              "\n",
              "     CoapplicantIncome  LoanAmount  Loan_Amount_Term  Credit_History  \\\n",
              "0                    0         120               360               1   \n",
              "1                 1508         128               360               1   \n",
              "2                    0          66               360               1   \n",
              "3                 2358         120               360               1   \n",
              "4                    0         141               360               1   \n",
              "..                 ...         ...               ...             ...   \n",
              "701                  0         102               433               1   \n",
              "702                  0         107               466               1   \n",
              "703                  0          91               360               0   \n",
              "704               3179         253               360               1   \n",
              "705               1557         184               360               1   \n",
              "\n",
              "     Property_Area  \n",
              "0                2  \n",
              "1                0  \n",
              "2                2  \n",
              "3                2  \n",
              "4                2  \n",
              "..             ...  \n",
              "701              0  \n",
              "702              1  \n",
              "703              0  \n",
              "704              0  \n",
              "705              0  \n",
              "\n",
              "[706 rows x 11 columns]"
            ]
          },
          "execution_count": 15,
          "metadata": {},
          "output_type": "execute_result"
        }
      ],
      "source": [
        "x_bal"
      ]
    },
    {
      "cell_type": "markdown",
      "metadata": {
        "id": "w2SoRQNDgj_E"
      },
      "source": [
        "**EXPLORATORY DATA ANALYSIS**"
      ]
    },
    {
      "cell_type": "code",
      "execution_count": 16,
      "metadata": {
        "id": "MSo-HDf7gaaZ"
      },
      "outputs": [
        {
          "data": {
            "text/html": [
              "<div>\n",
              "<style scoped>\n",
              "    .dataframe tbody tr th:only-of-type {\n",
              "        vertical-align: middle;\n",
              "    }\n",
              "\n",
              "    .dataframe tbody tr th {\n",
              "        vertical-align: top;\n",
              "    }\n",
              "\n",
              "    .dataframe thead th {\n",
              "        text-align: right;\n",
              "    }\n",
              "</style>\n",
              "<table border=\"1\" class=\"dataframe\">\n",
              "  <thead>\n",
              "    <tr style=\"text-align: right;\">\n",
              "      <th></th>\n",
              "      <th>Gender</th>\n",
              "      <th>Married</th>\n",
              "      <th>Dependents</th>\n",
              "      <th>Education</th>\n",
              "      <th>Self_Employed</th>\n",
              "      <th>ApplicantIncome</th>\n",
              "      <th>CoapplicantIncome</th>\n",
              "      <th>LoanAmount</th>\n",
              "      <th>Loan_Amount_Term</th>\n",
              "      <th>Credit_History</th>\n",
              "      <th>Property_Area</th>\n",
              "      <th>Loan_Status</th>\n",
              "    </tr>\n",
              "  </thead>\n",
              "  <tbody>\n",
              "    <tr>\n",
              "      <th>count</th>\n",
              "      <td>614.000000</td>\n",
              "      <td>614.000000</td>\n",
              "      <td>614.000000</td>\n",
              "      <td>614.000000</td>\n",
              "      <td>614.000000</td>\n",
              "      <td>614.000000</td>\n",
              "      <td>614.00000</td>\n",
              "      <td>614.000000</td>\n",
              "      <td>614.000000</td>\n",
              "      <td>614.000000</td>\n",
              "      <td>614.000000</td>\n",
              "      <td>614.000000</td>\n",
              "    </tr>\n",
              "    <tr>\n",
              "      <th>mean</th>\n",
              "      <td>0.817590</td>\n",
              "      <td>0.653094</td>\n",
              "      <td>0.744300</td>\n",
              "      <td>0.218241</td>\n",
              "      <td>0.133550</td>\n",
              "      <td>5403.459283</td>\n",
              "      <td>1621.24430</td>\n",
              "      <td>145.465798</td>\n",
              "      <td>342.410423</td>\n",
              "      <td>0.855049</td>\n",
              "      <td>1.037459</td>\n",
              "      <td>0.687296</td>\n",
              "    </tr>\n",
              "    <tr>\n",
              "      <th>std</th>\n",
              "      <td>0.386497</td>\n",
              "      <td>0.476373</td>\n",
              "      <td>1.009623</td>\n",
              "      <td>0.413389</td>\n",
              "      <td>0.340446</td>\n",
              "      <td>6109.041673</td>\n",
              "      <td>2926.24876</td>\n",
              "      <td>84.180967</td>\n",
              "      <td>64.428629</td>\n",
              "      <td>0.352339</td>\n",
              "      <td>0.787482</td>\n",
              "      <td>0.463973</td>\n",
              "    </tr>\n",
              "    <tr>\n",
              "      <th>min</th>\n",
              "      <td>0.000000</td>\n",
              "      <td>0.000000</td>\n",
              "      <td>0.000000</td>\n",
              "      <td>0.000000</td>\n",
              "      <td>0.000000</td>\n",
              "      <td>150.000000</td>\n",
              "      <td>0.00000</td>\n",
              "      <td>9.000000</td>\n",
              "      <td>12.000000</td>\n",
              "      <td>0.000000</td>\n",
              "      <td>0.000000</td>\n",
              "      <td>0.000000</td>\n",
              "    </tr>\n",
              "    <tr>\n",
              "      <th>25%</th>\n",
              "      <td>1.000000</td>\n",
              "      <td>0.000000</td>\n",
              "      <td>0.000000</td>\n",
              "      <td>0.000000</td>\n",
              "      <td>0.000000</td>\n",
              "      <td>2877.500000</td>\n",
              "      <td>0.00000</td>\n",
              "      <td>100.250000</td>\n",
              "      <td>360.000000</td>\n",
              "      <td>1.000000</td>\n",
              "      <td>0.000000</td>\n",
              "      <td>0.000000</td>\n",
              "    </tr>\n",
              "    <tr>\n",
              "      <th>50%</th>\n",
              "      <td>1.000000</td>\n",
              "      <td>1.000000</td>\n",
              "      <td>0.000000</td>\n",
              "      <td>0.000000</td>\n",
              "      <td>0.000000</td>\n",
              "      <td>3812.500000</td>\n",
              "      <td>1188.50000</td>\n",
              "      <td>125.000000</td>\n",
              "      <td>360.000000</td>\n",
              "      <td>1.000000</td>\n",
              "      <td>1.000000</td>\n",
              "      <td>1.000000</td>\n",
              "    </tr>\n",
              "    <tr>\n",
              "      <th>75%</th>\n",
              "      <td>1.000000</td>\n",
              "      <td>1.000000</td>\n",
              "      <td>1.000000</td>\n",
              "      <td>0.000000</td>\n",
              "      <td>0.000000</td>\n",
              "      <td>5795.000000</td>\n",
              "      <td>2297.25000</td>\n",
              "      <td>164.750000</td>\n",
              "      <td>360.000000</td>\n",
              "      <td>1.000000</td>\n",
              "      <td>2.000000</td>\n",
              "      <td>1.000000</td>\n",
              "    </tr>\n",
              "    <tr>\n",
              "      <th>max</th>\n",
              "      <td>1.000000</td>\n",
              "      <td>1.000000</td>\n",
              "      <td>3.000000</td>\n",
              "      <td>1.000000</td>\n",
              "      <td>1.000000</td>\n",
              "      <td>81000.000000</td>\n",
              "      <td>41667.00000</td>\n",
              "      <td>700.000000</td>\n",
              "      <td>480.000000</td>\n",
              "      <td>1.000000</td>\n",
              "      <td>2.000000</td>\n",
              "      <td>1.000000</td>\n",
              "    </tr>\n",
              "  </tbody>\n",
              "</table>\n",
              "</div>"
            ],
            "text/plain": [
              "           Gender     Married  Dependents   Education  Self_Employed  \\\n",
              "count  614.000000  614.000000  614.000000  614.000000     614.000000   \n",
              "mean     0.817590    0.653094    0.744300    0.218241       0.133550   \n",
              "std      0.386497    0.476373    1.009623    0.413389       0.340446   \n",
              "min      0.000000    0.000000    0.000000    0.000000       0.000000   \n",
              "25%      1.000000    0.000000    0.000000    0.000000       0.000000   \n",
              "50%      1.000000    1.000000    0.000000    0.000000       0.000000   \n",
              "75%      1.000000    1.000000    1.000000    0.000000       0.000000   \n",
              "max      1.000000    1.000000    3.000000    1.000000       1.000000   \n",
              "\n",
              "       ApplicantIncome  CoapplicantIncome  LoanAmount  Loan_Amount_Term  \\\n",
              "count       614.000000          614.00000  614.000000        614.000000   \n",
              "mean       5403.459283         1621.24430  145.465798        342.410423   \n",
              "std        6109.041673         2926.24876   84.180967         64.428629   \n",
              "min         150.000000            0.00000    9.000000         12.000000   \n",
              "25%        2877.500000            0.00000  100.250000        360.000000   \n",
              "50%        3812.500000         1188.50000  125.000000        360.000000   \n",
              "75%        5795.000000         2297.25000  164.750000        360.000000   \n",
              "max       81000.000000        41667.00000  700.000000        480.000000   \n",
              "\n",
              "       Credit_History  Property_Area  Loan_Status  \n",
              "count      614.000000     614.000000   614.000000  \n",
              "mean         0.855049       1.037459     0.687296  \n",
              "std          0.352339       0.787482     0.463973  \n",
              "min          0.000000       0.000000     0.000000  \n",
              "25%          1.000000       0.000000     0.000000  \n",
              "50%          1.000000       1.000000     1.000000  \n",
              "75%          1.000000       2.000000     1.000000  \n",
              "max          1.000000       2.000000     1.000000  "
            ]
          },
          "execution_count": 16,
          "metadata": {},
          "output_type": "execute_result"
        }
      ],
      "source": [
        "data.describe()"
      ]
    },
    {
      "cell_type": "code",
      "execution_count": 17,
      "metadata": {
        "id": "f9_im9NhgaQM"
      },
      "outputs": [
        {
          "name": "stderr",
          "output_type": "stream",
          "text": [
            "/var/folders/wz/16zkmzc90kxby1t66xr58zhm0000gn/T/ipykernel_53199/3941809966.py:4: UserWarning: \n",
            "\n",
            "`distplot` is a deprecated function and will be removed in seaborn v0.14.0.\n",
            "\n",
            "Please adapt your code to use either `displot` (a figure-level function with\n",
            "similar flexibility) or `histplot` (an axes-level function for histograms).\n",
            "\n",
            "For a guide to updating your code to use the new functions, please see\n",
            "https://gist.github.com/mwaskom/de44147ed2974457ad6372750bbe5751\n",
            "\n",
            "  sns.distplot(data['ApplicantIncome'], color='r')\n",
            "/var/folders/wz/16zkmzc90kxby1t66xr58zhm0000gn/T/ipykernel_53199/3941809966.py:6: UserWarning: \n",
            "\n",
            "`distplot` is a deprecated function and will be removed in seaborn v0.14.0.\n",
            "\n",
            "Please adapt your code to use either `displot` (a figure-level function with\n",
            "similar flexibility) or `histplot` (an axes-level function for histograms).\n",
            "\n",
            "For a guide to updating your code to use the new functions, please see\n",
            "https://gist.github.com/mwaskom/de44147ed2974457ad6372750bbe5751\n",
            "\n",
            "  sns.distplot(data['Credit_History'])\n"
          ]
        },
        {
          "data": {
            "image/png": "[encoded data removed]",
            "text/plain": [
              "<Figure size 1200x500 with 2 Axes>"
            ]
          },
          "metadata": {},
          "output_type": "display_data"
        }
      ],
      "source": [
        "#plotting the using distplot\n",
        "plt.figure(figsize=(12,5))\n",
        "plt.subplot(121)\n",
        "sns.distplot(data['ApplicantIncome'], color='r')\n",
        "plt.subplot(122)\n",
        "sns.distplot(data['Credit_History'])\n",
        "plt.show()"
      ]
    },
    {
      "cell_type": "code",
      "execution_count": 18,
      "metadata": {
        "id": "cep2DlpChIEz"
      },
      "outputs": [
        {
          "data": {
            "image/png": "[encoded data removed]",
            "text/plain": [
              "<Figure size 1800x400 with 2 Axes>"
            ]
          },
          "metadata": {},
          "output_type": "display_data"
        }
      ],
      "source": [
        "#platting the count plot\n",
        "plt.figure(figsize=(18,4))\n",
        "plt.subplot(1,4,1)\n",
        "sns.countplot(x='Gender',data=data)\n",
        "plt.subplot(1,4,2)\n",
        "sns.countplot(x ='Education',data=data)\n",
        "plt.show()"
      ]
    },
    {
      "cell_type": "code",
      "execution_count": 19,
      "metadata": {
        "id": "H_A1HSV6hH58"
      },
      "outputs": [
        {
          "data": {
            "text/plain": [
              "<AxesSubplot: xlabel='Property_Area', ylabel='count'>"
            ]
          },
          "execution_count": 19,
          "metadata": {},
          "output_type": "execute_result"
        },
        {
          "data": {
            "image/png": "[encoded data removed]",
            "text/plain": [
              "<Figure size 2000x500 with 3 Axes>"
            ]
          },
          "metadata": {},
          "output_type": "display_data"
        }
      ],
      "source": [
        "plt.figure(figsize=(20,5))\n",
        "plt.subplot(131)\n",
        "sns.countplot(x = 'Married', hue='Gender', data = data)\n",
        "plt.subplot(132)\n",
        "sns.countplot(x = 'Self_Employed', hue='Education', data = data)\n",
        "plt.subplot(133)\n",
        "sns.countplot(x = 'Property_Area', hue='Loan_Amount_Term', data = data)"
      ]
    },
    {
      "cell_type": "code",
      "execution_count": 20,
      "metadata": {
        "id": "bLZQA9WeiB4y"
      },
      "outputs": [
        {
          "name": "stderr",
          "output_type": "stream",
          "text": [
            "/Library/Frameworks/Python.framework/Versions/3.11/lib/python3.11/site-packages/seaborn/categorical.py:3543: UserWarning: 45.8% of the points cannot be placed; you may want to decrease the size of the markers or use stripplot.\n",
            "  warnings.warn(msg, UserWarning)\n"
          ]
        },
        {
          "data": {
            "text/plain": [
              "<AxesSubplot: xlabel='Gender', ylabel='ApplicantIncome'>"
            ]
          },
          "execution_count": 20,
          "metadata": {},
          "output_type": "execute_result"
        },
        {
          "name": "stderr",
          "output_type": "stream",
          "text": [
            "/Library/Frameworks/Python.framework/Versions/3.11/lib/python3.11/site-packages/seaborn/categorical.py:3543: UserWarning: 25.0% of the points cannot be placed; you may want to decrease the size of the markers or use stripplot.\n",
            "  warnings.warn(msg, UserWarning)\n",
            "/Library/Frameworks/Python.framework/Versions/3.11/lib/python3.11/site-packages/seaborn/categorical.py:3543: UserWarning: 61.6% of the points cannot be placed; you may want to decrease the size of the markers or use stripplot.\n",
            "  warnings.warn(msg, UserWarning)\n",
            "/Library/Frameworks/Python.framework/Versions/3.11/lib/python3.11/site-packages/seaborn/categorical.py:3543: UserWarning: 25.0% of the points cannot be placed; you may want to decrease the size of the markers or use stripplot.\n",
            "  warnings.warn(msg, UserWarning)\n",
            "/Library/Frameworks/Python.framework/Versions/3.11/lib/python3.11/site-packages/seaborn/categorical.py:3543: UserWarning: 61.6% of the points cannot be placed; you may want to decrease the size of the markers or use stripplot.\n",
            "  warnings.warn(msg, UserWarning)\n",
            "/Library/Frameworks/Python.framework/Versions/3.11/lib/python3.11/site-packages/seaborn/categorical.py:3543: UserWarning: 25.0% of the points cannot be placed; you may want to decrease the size of the markers or use stripplot.\n",
            "  warnings.warn(msg, UserWarning)\n",
            "/Library/Frameworks/Python.framework/Versions/3.11/lib/python3.11/site-packages/seaborn/categorical.py:3543: UserWarning: 61.6% of the points cannot be placed; you may want to decrease the size of the markers or use stripplot.\n",
            "  warnings.warn(msg, UserWarning)\n"
          ]
        },
        {
          "data": {
            "image/png": "[encoded data removed]",
            "text/plain": [
              "<Figure size 640x480 with 1 Axes>"
            ]
          },
          "metadata": {},
          "output_type": "display_data"
        }
      ],
      "source": [
        "#visulaized based gender and income what would be the appplication status\n",
        "sns.swarmplot(x='Gender', y='ApplicantIncome', hue = 'Loan_Status', data = data)"
      ]
    },
    {
      "cell_type": "code",
      "execution_count": 21,
      "metadata": {
        "id": "SG0yRwHoiBn1"
      },
      "outputs": [],
      "source": [
        "# perfroming feature Scaling operation using standard scaller on X part of the dataset becaus\n",
        "#there different type of values in the columns\n",
        "sc=StandardScaler()\n",
        "x_bal=sc.fit_transform(x_bal)\n",
        "x_bal = pd.DataFrame(x_bal)"
      ]
    },
    {
      "cell_type": "code",
      "execution_count": 22,
      "metadata": {
        "id": "CXDDxGQMiyLq"
      },
      "outputs": [],
      "source": [
        "#splitting the dataset in train and test on balanced dataset\n",
        "X_train, X_test, y_train, y_test = train_test_split( x_bal, y_bal, test_size=0.33, random_state=42)"
      ]
    },
    {
      "cell_type": "markdown",
      "metadata": {
        "id": "Q1LQgZdlUdoL"
      },
      "source": [
        "**MODEL BUILDING**"
      ]
    },
    {
      "cell_type": "code",
      "execution_count": 23,
      "metadata": {
        "id": "8zEU4p8iRUSn"
      },
      "outputs": [],
      "source": [
        "dt = DecisionTreeClassifier()\n",
        "rf = RandomForestClassifier()\n",
        "knn = KNeighborsClassifier()\n",
        "xg = GradientBoostingClassifier()"
      ]
    },
    {
      "cell_type": "markdown",
      "metadata": {
        "id": "OZDR8grSWEmF"
      },
      "source": [
        "**Decision tree model**"
      ]
    },
    {
      "cell_type": "code",
      "execution_count": 24,
      "metadata": {
        "id": "nvKZPtDLUlXg"
      },
      "outputs": [],
      "source": [
        "def decisionTree():\n",
        "   dt.fit(X_train,y_train)\n",
        "   yPred = dt.predict(X_test)\n",
        "   print('****DecisionTreeClassifier****')\n",
        "   print('Confusion matrix')\n",
        "   print(confusion_matrix(y_test,yPred))\n",
        "   print('Classification report')\n",
        "   print(classification_report(y_test, yPred))"
      ]
    },
    {
      "cell_type": "markdown",
      "metadata": {
        "id": "uEwjuERPWLC0"
      },
      "source": [
        "**Random forest model**"
      ]
    },
    {
      "cell_type": "code",
      "execution_count": 25,
      "metadata": {
        "id": "rYwHMxHPVXKw"
      },
      "outputs": [],
      "source": [
        "def randomForest():\n",
        "  rf.fit(X_train,y_train)\n",
        "  yPred = rf.predict(X_test)\n",
        "  print('***RandomForestClassifier***')\n",
        "  print('Confusion matrix')\n",
        "  print(confusion_matrix(y_test,yPred))\n",
        "  print('Classification report')\n",
        "  print(classification_report(y_test, yPred))"
      ]
    },
    {
      "cell_type": "code",
      "execution_count": 26,
      "metadata": {
        "id": "Oo0p7eA0V0OY"
      },
      "outputs": [],
      "source": [
        "def KNN():\n",
        "  knn.fit(X_train,y_train)\n",
        "  yPred = knn.predict(X_test)\n",
        "  print('***KNeighborsClassifier***')\n",
        "  print('Confusion matrix')\n",
        "  print(confusion_matrix(y_test,yPred))\n",
        "  print('Classification report')\n",
        "  print(classification_report(y_test,yPred))"
      ]
    },
    {
      "cell_type": "markdown",
      "metadata": {
        "id": "ohg5fXYCWWMW"
      },
      "source": [
        "**Xgboost model**"
      ]
    },
    {
      "cell_type": "code",
      "execution_count": 27,
      "metadata": {
        "id": "BV7H9iOqV0yl"
      },
      "outputs": [],
      "source": [
        "def xgboost():\n",
        "  xg.fit(X_train,y_train)\n",
        "  yPred = xg.predict(X_test)\n",
        "  print('****Gradient BoostingClassifier***')\n",
        "  print('Confusion matrix')\n",
        "  print(confusion_matrix(y_test,yPred))\n",
        "  print('Classification report')\n",
        "  print(classification_report (y_test,yPred))"
      ]
    },
    {
      "cell_type": "markdown",
      "metadata": {
        "id": "HM5zZJKxWjpC"
      },
      "source": [
        "**ANN model**"
      ]
    },
    {
      "cell_type": "code",
      "execution_count": 28,
      "metadata": {
        "id": "NU_D8TtXV1U8"
      },
      "outputs": [],
      "source": [
        "# Importing the Keras libraries and packages\n",
        "import tensorflow\n",
        "from tensorflow.keras.models import Sequential\n",
        "from tensorflow.keras.layers import Dense\n",
        "# Initialising the ANN\n",
        "classifier = Sequential()\n",
        "# Adding the input layer and the first hidden layer\n",
        "classifier.add(Dense (units=100, activation='relu', input_dim=11))\n",
        "# Adding the second hidden layer\n",
        "classifier.add(Dense (units=50, activation='relu'))\n",
        "# Adding the output layer\n",
        "classifier.add(Dense (units=1, activation='sigmoid'))\n",
        "# Compiling the ANN\n",
        "classifier.compile(optimizer='adam', loss='binary_crossentropy', metrics=['accuracy'])"
      ]
    },
    {
      "cell_type": "markdown",
      "metadata": {
        "id": "MC-1AcSGXj3T"
      },
      "source": [
        "**TRAINING**\n",
        "\n"
      ]
    },
    {
      "cell_type": "code",
      "execution_count": 29,
      "metadata": {
        "id": "xKr6wLXQSjxg"
      },
      "outputs": [
        {
          "name": "stdout",
          "output_type": "stream",
          "text": [
            "****DecisionTreeClassifier****\n",
            "Confusion matrix\n",
            "[[87 26]\n",
            " [32 88]]\n",
            "Classification report\n",
            "              precision    recall  f1-score   support\n",
            "\n",
            "           0       0.73      0.77      0.75       113\n",
            "           1       0.77      0.73      0.75       120\n",
            "\n",
            "    accuracy                           0.75       233\n",
            "   macro avg       0.75      0.75      0.75       233\n",
            "weighted avg       0.75      0.75      0.75       233\n",
            "\n",
            "***RandomForestClassifier***\n",
            "Confusion matrix\n",
            "[[88 25]\n",
            " [21 99]]\n",
            "Classification report\n",
            "              precision    recall  f1-score   support\n",
            "\n",
            "           0       0.81      0.78      0.79       113\n",
            "           1       0.80      0.82      0.81       120\n",
            "\n",
            "    accuracy                           0.80       233\n",
            "   macro avg       0.80      0.80      0.80       233\n",
            "weighted avg       0.80      0.80      0.80       233\n",
            "\n",
            "***KNeighborsClassifier***\n",
            "Confusion matrix\n",
            "[[ 70  43]\n",
            " [ 20 100]]\n",
            "Classification report\n",
            "              precision    recall  f1-score   support\n",
            "\n",
            "           0       0.78      0.62      0.69       113\n",
            "           1       0.70      0.83      0.76       120\n",
            "\n",
            "    accuracy                           0.73       233\n",
            "   macro avg       0.74      0.73      0.73       233\n",
            "weighted avg       0.74      0.73      0.73       233\n",
            "\n",
            "****Gradient BoostingClassifier***\n",
            "Confusion matrix\n",
            "[[ 85  28]\n",
            " [ 17 103]]\n",
            "Classification report\n",
            "              precision    recall  f1-score   support\n",
            "\n",
            "           0       0.83      0.75      0.79       113\n",
            "           1       0.79      0.86      0.82       120\n",
            "\n",
            "    accuracy                           0.81       233\n",
            "   macro avg       0.81      0.81      0.81       233\n",
            "weighted avg       0.81      0.81      0.81       233\n",
            "\n"
          ]
        }
      ],
      "source": [
        "decisionTree()\n",
        "randomForest()\n",
        "KNN()\n",
        "xgboost()"
      ]
    },
    {
      "cell_type": "code",
      "execution_count": 30,
      "metadata": {
        "id": "D6mFSDtUW43j"
      },
      "outputs": [
        {
          "name": "stdout",
          "output_type": "stream",
          "text": [
            "Epoch 1/100\n"
          ]
        },
        {
          "name": "stderr",
          "output_type": "stream",
          "text": [
            "/Library/Frameworks/Python.framework/Versions/3.11/lib/python3.11/site-packages/keras/src/engine/data_adapter.py:1798: FutureWarning: The behavior of `series[i:j]` with an integer-dtype index is deprecated. In a future version, this will be treated as *label-based* indexing, consistent with e.g. `series[i]` lookups. To retain the old behavior, use `series.iloc[i:j]`. To get the future behavior, use `series.loc[i:j]`.\n",
            "  return t[start:end]\n"
          ]
        },
        {
          "name": "stdout",
          "output_type": "stream",
          "text": [
            "4/4 [==============================] - 0s 43ms/step - loss: 0.6869 - accuracy: 0.5741 - val_loss: 0.6724 - val_accuracy: 0.5579\n",
            "Epoch 2/100\n",
            "4/4 [==============================] - 0s 7ms/step - loss: 0.6307 - accuracy: 0.7090 - val_loss: 0.6362 - val_accuracy: 0.6526\n",
            "Epoch 3/100\n",
            "4/4 [==============================] - 0s 7ms/step - loss: 0.5835 - accuracy: 0.7407 - val_loss: 0.6067 - val_accuracy: 0.6632\n",
            "Epoch 4/100\n",
            "4/4 [==============================] - 0s 7ms/step - loss: 0.5466 - accuracy: 0.7513 - val_loss: 0.5837 - val_accuracy: 0.6737\n",
            "Epoch 5/100\n",
            "4/4 [==============================] - 0s 7ms/step - loss: 0.5134 - accuracy: 0.7804 - val_loss: 0.5664 - val_accuracy: 0.6842\n",
            "Epoch 6/100\n",
            "4/4 [==============================] - 0s 7ms/step - loss: 0.4855 - accuracy: 0.7857 - val_loss: 0.5534 - val_accuracy: 0.6842\n",
            "Epoch 7/100\n",
            "4/4 [==============================] - 0s 7ms/step - loss: 0.4620 - accuracy: 0.7937 - val_loss: 0.5435 - val_accuracy: 0.7053\n",
            "Epoch 8/100\n",
            "4/4 [==============================] - 0s 7ms/step - loss: 0.4413 - accuracy: 0.8042 - val_loss: 0.5353 - val_accuracy: 0.7158\n",
            "Epoch 9/100\n",
            "4/4 [==============================] - 0s 7ms/step - loss: 0.4243 - accuracy: 0.8095 - val_loss: 0.5308 - val_accuracy: 0.7158\n",
            "Epoch 10/100\n",
            "4/4 [==============================] - 0s 7ms/step - loss: 0.4099 - accuracy: 0.8069 - val_loss: 0.5280 - val_accuracy: 0.7053\n",
            "Epoch 11/100\n",
            "4/4 [==============================] - 0s 7ms/step - loss: 0.3987 - accuracy: 0.8095 - val_loss: 0.5271 - val_accuracy: 0.6947\n",
            "Epoch 12/100\n",
            "4/4 [==============================] - 0s 7ms/step - loss: 0.3890 - accuracy: 0.8201 - val_loss: 0.5274 - val_accuracy: 0.6947\n",
            "Epoch 13/100\n",
            "4/4 [==============================] - 0s 7ms/step - loss: 0.3809 - accuracy: 0.8307 - val_loss: 0.5300 - val_accuracy: 0.6947\n",
            "Epoch 14/100\n",
            "4/4 [==============================] - 0s 7ms/step - loss: 0.3739 - accuracy: 0.8360 - val_loss: 0.5320 - val_accuracy: 0.6947\n",
            "Epoch 15/100\n",
            "4/4 [==============================] - 0s 7ms/step - loss: 0.3678 - accuracy: 0.8386 - val_loss: 0.5336 - val_accuracy: 0.7053\n",
            "Epoch 16/100\n",
            "4/4 [==============================] - 0s 7ms/step - loss: 0.3632 - accuracy: 0.8386 - val_loss: 0.5384 - val_accuracy: 0.7053\n",
            "Epoch 17/100\n",
            "4/4 [==============================] - 0s 7ms/step - loss: 0.3584 - accuracy: 0.8386 - val_loss: 0.5421 - val_accuracy: 0.7053\n",
            "Epoch 18/100\n",
            "4/4 [==============================] - 0s 7ms/step - loss: 0.3545 - accuracy: 0.8413 - val_loss: 0.5429 - val_accuracy: 0.7053\n",
            "Epoch 19/100\n",
            "4/4 [==============================] - 0s 7ms/step - loss: 0.3501 - accuracy: 0.8413 - val_loss: 0.5465 - val_accuracy: 0.7053\n",
            "Epoch 20/100\n",
            "4/4 [==============================] - 0s 7ms/step - loss: 0.3468 - accuracy: 0.8386 - val_loss: 0.5507 - val_accuracy: 0.7053\n",
            "Epoch 21/100\n",
            "4/4 [==============================] - 0s 7ms/step - loss: 0.3433 - accuracy: 0.8413 - val_loss: 0.5529 - val_accuracy: 0.7053\n",
            "Epoch 22/100\n",
            "4/4 [==============================] - 0s 7ms/step - loss: 0.3403 - accuracy: 0.8439 - val_loss: 0.5554 - val_accuracy: 0.7053\n",
            "Epoch 23/100\n",
            "4/4 [==============================] - 0s 6ms/step - loss: 0.3373 - accuracy: 0.8519 - val_loss: 0.5557 - val_accuracy: 0.7053\n",
            "Epoch 24/100\n",
            "4/4 [==============================] - 0s 9ms/step - loss: 0.3350 - accuracy: 0.8545 - val_loss: 0.5588 - val_accuracy: 0.7053\n",
            "Epoch 25/100\n",
            "4/4 [==============================] - 0s 9ms/step - loss: 0.3316 - accuracy: 0.8545 - val_loss: 0.5595 - val_accuracy: 0.7053\n",
            "Epoch 26/100\n",
            "4/4 [==============================] - 0s 7ms/step - loss: 0.3295 - accuracy: 0.8519 - val_loss: 0.5619 - val_accuracy: 0.7053\n",
            "Epoch 27/100\n",
            "4/4 [==============================] - 0s 7ms/step - loss: 0.3266 - accuracy: 0.8571 - val_loss: 0.5667 - val_accuracy: 0.7053\n",
            "Epoch 28/100\n",
            "4/4 [==============================] - 0s 7ms/step - loss: 0.3244 - accuracy: 0.8571 - val_loss: 0.5702 - val_accuracy: 0.7053\n",
            "Epoch 29/100\n",
            "4/4 [==============================] - 0s 7ms/step - loss: 0.3216 - accuracy: 0.8598 - val_loss: 0.5702 - val_accuracy: 0.7053\n",
            "Epoch 30/100\n",
            "4/4 [==============================] - 0s 7ms/step - loss: 0.3189 - accuracy: 0.8598 - val_loss: 0.5696 - val_accuracy: 0.7053\n",
            "Epoch 31/100\n",
            "4/4 [==============================] - 0s 7ms/step - loss: 0.3171 - accuracy: 0.8545 - val_loss: 0.5693 - val_accuracy: 0.7263\n",
            "Epoch 32/100\n",
            "4/4 [==============================] - 0s 7ms/step - loss: 0.3149 - accuracy: 0.8545 - val_loss: 0.5734 - val_accuracy: 0.7158\n",
            "Epoch 33/100\n",
            "4/4 [==============================] - 0s 7ms/step - loss: 0.3125 - accuracy: 0.8545 - val_loss: 0.5779 - val_accuracy: 0.7053\n",
            "Epoch 34/100\n",
            "4/4 [==============================] - 0s 6ms/step - loss: 0.3101 - accuracy: 0.8624 - val_loss: 0.5795 - val_accuracy: 0.7158\n",
            "Epoch 35/100\n",
            "4/4 [==============================] - 0s 7ms/step - loss: 0.3084 - accuracy: 0.8624 - val_loss: 0.5824 - val_accuracy: 0.7158\n",
            "Epoch 36/100\n",
            "4/4 [==============================] - 0s 7ms/step - loss: 0.3059 - accuracy: 0.8651 - val_loss: 0.5872 - val_accuracy: 0.7158\n",
            "Epoch 37/100\n",
            "4/4 [==============================] - 0s 7ms/step - loss: 0.3037 - accuracy: 0.8651 - val_loss: 0.5901 - val_accuracy: 0.7158\n",
            "Epoch 38/100\n",
            "4/4 [==============================] - 0s 7ms/step - loss: 0.3016 - accuracy: 0.8624 - val_loss: 0.5943 - val_accuracy: 0.7158\n",
            "Epoch 39/100\n",
            "4/4 [==============================] - 0s 7ms/step - loss: 0.3001 - accuracy: 0.8651 - val_loss: 0.5942 - val_accuracy: 0.7158\n",
            "Epoch 40/100\n",
            "4/4 [==============================] - 0s 7ms/step - loss: 0.2979 - accuracy: 0.8651 - val_loss: 0.6008 - val_accuracy: 0.7158\n",
            "Epoch 41/100\n",
            "4/4 [==============================] - 0s 7ms/step - loss: 0.2955 - accuracy: 0.8624 - val_loss: 0.6034 - val_accuracy: 0.7158\n",
            "Epoch 42/100\n",
            "4/4 [==============================] - 0s 7ms/step - loss: 0.2939 - accuracy: 0.8624 - val_loss: 0.6041 - val_accuracy: 0.7053\n",
            "Epoch 43/100\n",
            "4/4 [==============================] - 0s 7ms/step - loss: 0.2920 - accuracy: 0.8624 - val_loss: 0.6064 - val_accuracy: 0.7158\n",
            "Epoch 44/100\n",
            "4/4 [==============================] - 0s 7ms/step - loss: 0.2899 - accuracy: 0.8677 - val_loss: 0.6070 - val_accuracy: 0.7158\n",
            "Epoch 45/100\n",
            "4/4 [==============================] - 0s 7ms/step - loss: 0.2878 - accuracy: 0.8704 - val_loss: 0.6122 - val_accuracy: 0.7158\n",
            "Epoch 46/100\n",
            "4/4 [==============================] - 0s 7ms/step - loss: 0.2860 - accuracy: 0.8677 - val_loss: 0.6191 - val_accuracy: 0.7158\n",
            "Epoch 47/100\n",
            "4/4 [==============================] - 0s 7ms/step - loss: 0.2846 - accuracy: 0.8677 - val_loss: 0.6241 - val_accuracy: 0.7053\n",
            "Epoch 48/100\n",
            "4/4 [==============================] - 0s 7ms/step - loss: 0.2825 - accuracy: 0.8730 - val_loss: 0.6222 - val_accuracy: 0.7053\n",
            "Epoch 49/100\n",
            "4/4 [==============================] - 0s 7ms/step - loss: 0.2813 - accuracy: 0.8757 - val_loss: 0.6207 - val_accuracy: 0.7263\n",
            "Epoch 50/100\n",
            "4/4 [==============================] - 0s 7ms/step - loss: 0.2795 - accuracy: 0.8810 - val_loss: 0.6288 - val_accuracy: 0.7053\n",
            "Epoch 51/100\n",
            "4/4 [==============================] - 0s 7ms/step - loss: 0.2773 - accuracy: 0.8810 - val_loss: 0.6348 - val_accuracy: 0.7053\n",
            "Epoch 52/100\n",
            "4/4 [==============================] - 0s 7ms/step - loss: 0.2755 - accuracy: 0.8810 - val_loss: 0.6353 - val_accuracy: 0.7158\n",
            "Epoch 53/100\n",
            "4/4 [==============================] - 0s 7ms/step - loss: 0.2738 - accuracy: 0.8810 - val_loss: 0.6429 - val_accuracy: 0.7158\n",
            "Epoch 54/100\n",
            "4/4 [==============================] - 0s 7ms/step - loss: 0.2722 - accuracy: 0.8810 - val_loss: 0.6415 - val_accuracy: 0.7158\n",
            "Epoch 55/100\n",
            "4/4 [==============================] - 0s 7ms/step - loss: 0.2704 - accuracy: 0.8783 - val_loss: 0.6451 - val_accuracy: 0.7158\n",
            "Epoch 56/100\n",
            "4/4 [==============================] - 0s 7ms/step - loss: 0.2685 - accuracy: 0.8783 - val_loss: 0.6519 - val_accuracy: 0.7158\n",
            "Epoch 57/100\n",
            "4/4 [==============================] - 0s 7ms/step - loss: 0.2672 - accuracy: 0.8730 - val_loss: 0.6574 - val_accuracy: 0.7158\n",
            "Epoch 58/100\n",
            "4/4 [==============================] - 0s 7ms/step - loss: 0.2655 - accuracy: 0.8783 - val_loss: 0.6509 - val_accuracy: 0.7158\n",
            "Epoch 59/100\n",
            "4/4 [==============================] - 0s 7ms/step - loss: 0.2645 - accuracy: 0.8757 - val_loss: 0.6483 - val_accuracy: 0.7263\n",
            "Epoch 60/100\n",
            "4/4 [==============================] - 0s 7ms/step - loss: 0.2625 - accuracy: 0.8783 - val_loss: 0.6568 - val_accuracy: 0.7053\n",
            "Epoch 61/100\n",
            "4/4 [==============================] - 0s 6ms/step - loss: 0.2605 - accuracy: 0.8810 - val_loss: 0.6647 - val_accuracy: 0.7053\n",
            "Epoch 62/100\n",
            "4/4 [==============================] - 0s 7ms/step - loss: 0.2589 - accuracy: 0.8810 - val_loss: 0.6742 - val_accuracy: 0.7158\n",
            "Epoch 63/100\n",
            "4/4 [==============================] - 0s 7ms/step - loss: 0.2570 - accuracy: 0.8810 - val_loss: 0.6755 - val_accuracy: 0.7158\n",
            "Epoch 64/100\n",
            "4/4 [==============================] - 0s 6ms/step - loss: 0.2569 - accuracy: 0.8836 - val_loss: 0.6701 - val_accuracy: 0.7263\n",
            "Epoch 65/100\n",
            "4/4 [==============================] - 0s 7ms/step - loss: 0.2540 - accuracy: 0.8810 - val_loss: 0.6783 - val_accuracy: 0.7053\n",
            "Epoch 66/100\n",
            "4/4 [==============================] - 0s 7ms/step - loss: 0.2536 - accuracy: 0.8757 - val_loss: 0.6879 - val_accuracy: 0.7158\n",
            "Epoch 67/100\n",
            "4/4 [==============================] - 0s 7ms/step - loss: 0.2509 - accuracy: 0.8810 - val_loss: 0.6823 - val_accuracy: 0.7158\n",
            "Epoch 68/100\n",
            "4/4 [==============================] - 0s 7ms/step - loss: 0.2497 - accuracy: 0.8862 - val_loss: 0.6821 - val_accuracy: 0.7263\n",
            "Epoch 69/100\n",
            "4/4 [==============================] - 0s 7ms/step - loss: 0.2481 - accuracy: 0.8889 - val_loss: 0.6897 - val_accuracy: 0.7158\n",
            "Epoch 70/100\n",
            "4/4 [==============================] - 0s 7ms/step - loss: 0.2460 - accuracy: 0.8889 - val_loss: 0.6960 - val_accuracy: 0.7158\n",
            "Epoch 71/100\n",
            "4/4 [==============================] - 0s 7ms/step - loss: 0.2445 - accuracy: 0.8810 - val_loss: 0.6987 - val_accuracy: 0.7158\n",
            "Epoch 72/100\n",
            "4/4 [==============================] - 0s 7ms/step - loss: 0.2435 - accuracy: 0.8836 - val_loss: 0.7023 - val_accuracy: 0.7158\n",
            "Epoch 73/100\n",
            "4/4 [==============================] - 0s 7ms/step - loss: 0.2420 - accuracy: 0.8889 - val_loss: 0.7054 - val_accuracy: 0.7158\n",
            "Epoch 74/100\n",
            "4/4 [==============================] - 0s 7ms/step - loss: 0.2398 - accuracy: 0.8889 - val_loss: 0.7112 - val_accuracy: 0.7158\n",
            "Epoch 75/100\n",
            "4/4 [==============================] - 0s 7ms/step - loss: 0.2385 - accuracy: 0.8915 - val_loss: 0.7147 - val_accuracy: 0.7158\n",
            "Epoch 76/100\n",
            "4/4 [==============================] - 0s 7ms/step - loss: 0.2370 - accuracy: 0.8915 - val_loss: 0.7237 - val_accuracy: 0.7053\n",
            "Epoch 77/100\n",
            "4/4 [==============================] - 0s 7ms/step - loss: 0.2357 - accuracy: 0.8942 - val_loss: 0.7268 - val_accuracy: 0.7158\n",
            "Epoch 78/100\n",
            "4/4 [==============================] - 0s 7ms/step - loss: 0.2352 - accuracy: 0.8942 - val_loss: 0.7194 - val_accuracy: 0.7263\n",
            "Epoch 79/100\n",
            "4/4 [==============================] - 0s 7ms/step - loss: 0.2344 - accuracy: 0.8915 - val_loss: 0.7266 - val_accuracy: 0.7158\n",
            "Epoch 80/100\n",
            "4/4 [==============================] - 0s 7ms/step - loss: 0.2320 - accuracy: 0.8968 - val_loss: 0.7322 - val_accuracy: 0.7263\n",
            "Epoch 81/100\n",
            "4/4 [==============================] - 0s 7ms/step - loss: 0.2300 - accuracy: 0.8995 - val_loss: 0.7366 - val_accuracy: 0.7263\n",
            "Epoch 82/100\n",
            "4/4 [==============================] - 0s 7ms/step - loss: 0.2286 - accuracy: 0.8968 - val_loss: 0.7458 - val_accuracy: 0.7158\n",
            "Epoch 83/100\n",
            "4/4 [==============================] - 0s 6ms/step - loss: 0.2272 - accuracy: 0.8968 - val_loss: 0.7450 - val_accuracy: 0.7158\n",
            "Epoch 84/100\n",
            "4/4 [==============================] - 0s 6ms/step - loss: 0.2260 - accuracy: 0.8968 - val_loss: 0.7502 - val_accuracy: 0.7053\n",
            "Epoch 85/100\n",
            "4/4 [==============================] - 0s 7ms/step - loss: 0.2247 - accuracy: 0.8942 - val_loss: 0.7491 - val_accuracy: 0.7158\n",
            "Epoch 86/100\n",
            "4/4 [==============================] - 0s 7ms/step - loss: 0.2233 - accuracy: 0.8968 - val_loss: 0.7533 - val_accuracy: 0.7263\n",
            "Epoch 87/100\n",
            "4/4 [==============================] - 0s 7ms/step - loss: 0.2217 - accuracy: 0.8942 - val_loss: 0.7595 - val_accuracy: 0.7263\n",
            "Epoch 88/100\n",
            "4/4 [==============================] - 0s 7ms/step - loss: 0.2215 - accuracy: 0.8995 - val_loss: 0.7644 - val_accuracy: 0.7263\n",
            "Epoch 89/100\n",
            "4/4 [==============================] - 0s 6ms/step - loss: 0.2194 - accuracy: 0.8995 - val_loss: 0.7664 - val_accuracy: 0.7263\n",
            "Epoch 90/100\n",
            "4/4 [==============================] - 0s 7ms/step - loss: 0.2187 - accuracy: 0.8968 - val_loss: 0.7695 - val_accuracy: 0.7263\n",
            "Epoch 91/100\n",
            "4/4 [==============================] - 0s 7ms/step - loss: 0.2169 - accuracy: 0.8995 - val_loss: 0.7770 - val_accuracy: 0.7158\n",
            "Epoch 92/100\n",
            "4/4 [==============================] - 0s 7ms/step - loss: 0.2150 - accuracy: 0.9101 - val_loss: 0.7768 - val_accuracy: 0.7158\n",
            "Epoch 93/100\n",
            "4/4 [==============================] - 0s 7ms/step - loss: 0.2140 - accuracy: 0.9127 - val_loss: 0.7766 - val_accuracy: 0.7263\n",
            "Epoch 94/100\n",
            "4/4 [==============================] - 0s 7ms/step - loss: 0.2124 - accuracy: 0.9127 - val_loss: 0.7860 - val_accuracy: 0.7263\n",
            "Epoch 95/100\n",
            "4/4 [==============================] - 0s 7ms/step - loss: 0.2116 - accuracy: 0.9048 - val_loss: 0.7949 - val_accuracy: 0.7158\n",
            "Epoch 96/100\n",
            "4/4 [==============================] - 0s 7ms/step - loss: 0.2103 - accuracy: 0.9101 - val_loss: 0.7982 - val_accuracy: 0.7158\n",
            "Epoch 97/100\n",
            "4/4 [==============================] - 0s 7ms/step - loss: 0.2083 - accuracy: 0.9101 - val_loss: 0.7992 - val_accuracy: 0.7263\n",
            "Epoch 98/100\n",
            "4/4 [==============================] - 0s 6ms/step - loss: 0.2070 - accuracy: 0.9180 - val_loss: 0.8059 - val_accuracy: 0.7474\n",
            "Epoch 99/100\n",
            "4/4 [==============================] - 0s 7ms/step - loss: 0.2059 - accuracy: 0.9206 - val_loss: 0.8089 - val_accuracy: 0.7474\n",
            "Epoch 100/100\n",
            "4/4 [==============================] - 0s 7ms/step - loss: 0.2050 - accuracy: 0.9153 - val_loss: 0.8134 - val_accuracy: 0.7263\n"
          ]
        }
      ],
      "source": [
        "# Fitting the ANN to the training set\n",
        "model_history = classifier.fit(X_train, y_train, batch_size=100, validation_split=0.2, epochs=100)"
      ]
    },
    {
      "cell_type": "code",
      "execution_count": 31,
      "metadata": {
        "id": "V9z2Pl_dXWry"
      },
      "outputs": [
        {
          "name": "stderr",
          "output_type": "stream",
          "text": [
            "/Library/Frameworks/Python.framework/Versions/3.11/lib/python3.11/site-packages/keras/src/engine/training.py:3000: UserWarning: You are saving your model as an HDF5 file via `model.save()`. This file format is considered legacy. We recommend using instead the native Keras format, e.g. `model.save('my_model.keras')`.\n",
            "  saving_api.save_model(\n"
          ]
        }
      ],
      "source": [
        "classifier.save(\"loan.h5\")"
      ]
    },
    {
      "cell_type": "code",
      "execution_count": 32,
      "metadata": {
        "id": "ZSGyB69kXWpN"
      },
      "outputs": [
        {
          "name": "stdout",
          "output_type": "stream",
          "text": [
            "8/8 [==============================] - 0s 698us/step\n"
          ]
        }
      ],
      "source": [
        "y_pred = classifier.predict(X_test)"
      ]
    },
    {
      "cell_type": "code",
      "execution_count": 33,
      "metadata": {
        "id": "qSk5F6UOXWml"
      },
      "outputs": [
        {
          "data": {
            "text/plain": [
              "array([[9.7092259e-01],\n",
              "       [9.1691959e-01],\n",
              "       [4.1848210e-01],\n",
              "       [9.8382932e-01],\n",
              "       [5.2885902e-01],\n",
              "       [8.8749415e-01],\n",
              "       [9.4491309e-01],\n",
              "       [1.6249482e-05],\n",
              "       [3.4416545e-02],\n",
              "       [8.9704370e-01],\n",
              "       [9.1558945e-01],\n",
              "       [9.6183521e-01],\n",
              "       [9.3240964e-01],\n",
              "       [5.2439815e-01],\n",
              "       [7.7738547e-01],\n",
              "       [8.1450450e-01],\n",
              "       [7.5481260e-01],\n",
              "       [1.5759331e-07],\n",
              "       [9.6723855e-01],\n",
              "       [9.9573249e-01],\n",
              "       [9.5401967e-01],\n",
              "       [6.4198986e-02],\n",
              "       [5.4336823e-07],\n",
              "       [7.2452992e-01],\n",
              "       [2.4286062e-05],\n",
              "       [5.9731185e-01],\n",
              "       [9.8377496e-01],\n",
              "       [7.1030176e-01],\n",
              "       [6.4328635e-01],\n",
              "       [6.2934661e-01],\n",
              "       [5.9475720e-01],\n",
              "       [9.5699805e-01],\n",
              "       [9.5827425e-01],\n",
              "       [2.2231740e-07],\n",
              "       [7.0938903e-08],\n",
              "       [8.0790895e-01],\n",
              "       [7.6452070e-01],\n",
              "       [8.4317297e-01],\n",
              "       [5.3975759e-07],\n",
              "       [7.7880322e-06],\n",
              "       [2.8507173e-05],\n",
              "       [7.3065871e-01],\n",
              "       [9.4422913e-01],\n",
              "       [7.1151094e-03],\n",
              "       [5.3302753e-01],\n",
              "       [2.4663831e-01],\n",
              "       [2.4130326e-05],\n",
              "       [6.5622908e-01],\n",
              "       [1.3593102e-05],\n",
              "       [2.4858868e-01],\n",
              "       [5.9889537e-08],\n",
              "       [1.2182830e-02],\n",
              "       [7.1408588e-01],\n",
              "       [6.1085975e-01],\n",
              "       [6.8768048e-01],\n",
              "       [9.9162161e-01],\n",
              "       [1.1065772e-02],\n",
              "       [6.3265850e-07],\n",
              "       [8.2923984e-03],\n",
              "       [8.2215083e-01],\n",
              "       [2.8038225e-01],\n",
              "       [8.4739763e-01],\n",
              "       [1.4640704e-01],\n",
              "       [1.9369355e-07],\n",
              "       [2.8745948e-08],\n",
              "       [6.8938738e-01],\n",
              "       [2.3591848e-08],\n",
              "       [4.1644970e-08],\n",
              "       [4.1766714e-07],\n",
              "       [1.7847763e-04],\n",
              "       [8.9847171e-01],\n",
              "       [5.5864543e-01],\n",
              "       [1.4013925e-07],\n",
              "       [8.9458168e-01],\n",
              "       [8.1661189e-01],\n",
              "       [8.1396824e-01],\n",
              "       [4.3615569e-06],\n",
              "       [9.6853215e-01],\n",
              "       [6.7763644e-01],\n",
              "       [1.3846261e-07],\n",
              "       [7.7965438e-01],\n",
              "       [3.5095024e-06],\n",
              "       [9.1591793e-01],\n",
              "       [9.8484528e-01],\n",
              "       [5.2547520e-01],\n",
              "       [8.0845469e-01],\n",
              "       [4.9762914e-01],\n",
              "       [4.5194868e-02],\n",
              "       [2.6582196e-01],\n",
              "       [8.4159976e-01],\n",
              "       [7.5540674e-01],\n",
              "       [3.6217752e-01],\n",
              "       [9.3315738e-01],\n",
              "       [2.9154456e-01],\n",
              "       [8.5441828e-01],\n",
              "       [2.4778484e-07],\n",
              "       [1.6967606e-06],\n",
              "       [2.1282915e-07],\n",
              "       [9.0713203e-01],\n",
              "       [9.3041062e-01],\n",
              "       [7.7038193e-01],\n",
              "       [5.8430302e-01],\n",
              "       [4.7026712e-01],\n",
              "       [9.2177659e-01],\n",
              "       [5.0135786e-05],\n",
              "       [9.0252423e-01],\n",
              "       [9.1727453e-01],\n",
              "       [7.9567015e-01],\n",
              "       [8.5596561e-01],\n",
              "       [9.9713367e-01],\n",
              "       [7.2445649e-01],\n",
              "       [1.9684000e-08],\n",
              "       [6.3961399e-01],\n",
              "       [4.0703211e-02],\n",
              "       [2.3304774e-07],\n",
              "       [9.9315810e-01],\n",
              "       [8.8681981e-07],\n",
              "       [1.8158829e-06],\n",
              "       [1.7559786e-06],\n",
              "       [1.4176659e-06],\n",
              "       [7.4810886e-01],\n",
              "       [5.2019239e-08],\n",
              "       [2.7764854e-06],\n",
              "       [4.1273677e-05],\n",
              "       [9.8001772e-01],\n",
              "       [5.4413980e-01],\n",
              "       [7.4789131e-01],\n",
              "       [5.4726201e-01],\n",
              "       [9.6823299e-01],\n",
              "       [1.2373581e-03],\n",
              "       [2.6423439e-01],\n",
              "       [4.0742042e-03],\n",
              "       [7.5992858e-01],\n",
              "       [4.9803776e-01],\n",
              "       [7.4362340e-08],\n",
              "       [8.4093803e-01],\n",
              "       [4.0528956e-01],\n",
              "       [5.0284106e-01],\n",
              "       [8.7648314e-01],\n",
              "       [1.7927310e-06],\n",
              "       [2.4248044e-07],\n",
              "       [5.9144777e-01],\n",
              "       [9.6177232e-01],\n",
              "       [6.1087780e-02],\n",
              "       [6.1442435e-01],\n",
              "       [6.0877520e-01],\n",
              "       [3.4751235e-08],\n",
              "       [9.9068427e-01],\n",
              "       [7.3951572e-01],\n",
              "       [6.5878427e-01],\n",
              "       [7.9625434e-01],\n",
              "       [2.7802821e-06],\n",
              "       [9.6934606e-08],\n",
              "       [3.6808651e-02],\n",
              "       [5.6343216e-01],\n",
              "       [3.1089056e-02],\n",
              "       [2.8586406e-01],\n",
              "       [3.4210549e-07],\n",
              "       [9.2907679e-01],\n",
              "       [3.4347438e-05],\n",
              "       [9.8838687e-01],\n",
              "       [1.0626161e-07],\n",
              "       [9.8537821e-01],\n",
              "       [7.2489292e-03],\n",
              "       [3.9586383e-03],\n",
              "       [8.1920093e-01],\n",
              "       [9.8824966e-01],\n",
              "       [4.2990869e-04],\n",
              "       [5.2405596e-01],\n",
              "       [5.5764073e-01],\n",
              "       [8.0180281e-01],\n",
              "       [8.8356996e-01],\n",
              "       [3.5208598e-06],\n",
              "       [4.0455580e-01],\n",
              "       [7.0693910e-01],\n",
              "       [7.1138829e-01],\n",
              "       [4.0746185e-05],\n",
              "       [6.9372654e-01],\n",
              "       [7.7038014e-01],\n",
              "       [9.6229601e-01],\n",
              "       [9.7381628e-01],\n",
              "       [5.6117096e-06],\n",
              "       [9.1199386e-01],\n",
              "       [8.5301936e-01],\n",
              "       [8.6257029e-01],\n",
              "       [3.5796891e-08],\n",
              "       [9.9942618e-08],\n",
              "       [2.7430654e-01],\n",
              "       [8.0449885e-01],\n",
              "       [6.8910223e-01],\n",
              "       [5.8064049e-01],\n",
              "       [5.4557306e-01],\n",
              "       [9.1159713e-01],\n",
              "       [1.9507997e-08],\n",
              "       [2.5495359e-01],\n",
              "       [4.6593370e-05],\n",
              "       [3.4401059e-01],\n",
              "       [8.1990498e-01],\n",
              "       [8.5320598e-01],\n",
              "       [3.7728370e-08],\n",
              "       [1.9699776e-08],\n",
              "       [8.4340809e-07],\n",
              "       [9.9229276e-02],\n",
              "       [7.0691127e-01],\n",
              "       [5.2798583e-07],\n",
              "       [9.9396312e-01],\n",
              "       [7.7655280e-01],\n",
              "       [8.8140708e-01],\n",
              "       [6.9588810e-02],\n",
              "       [3.1050226e-01],\n",
              "       [9.6543318e-01],\n",
              "       [1.9445663e-06],\n",
              "       [3.7254631e-06],\n",
              "       [8.1256592e-01],\n",
              "       [7.2427237e-01],\n",
              "       [6.2150455e-01],\n",
              "       [1.3236715e-05],\n",
              "       [4.9132898e-01],\n",
              "       [2.6649991e-02],\n",
              "       [9.5922709e-01],\n",
              "       [9.5348483e-01],\n",
              "       [5.9056354e-01],\n",
              "       [2.5613043e-01],\n",
              "       [9.7268403e-01],\n",
              "       [9.5851767e-01],\n",
              "       [9.1919845e-01],\n",
              "       [6.7186540e-01],\n",
              "       [3.6702037e-01],\n",
              "       [9.2767686e-01],\n",
              "       [5.6816697e-01],\n",
              "       [5.3781796e-01],\n",
              "       [5.6451631e-01],\n",
              "       [6.7810625e-01]], dtype=float32)"
            ]
          },
          "execution_count": 33,
          "metadata": {},
          "output_type": "execute_result"
        }
      ],
      "source": [
        "y_pred"
      ]
    },
    {
      "cell_type": "code",
      "execution_count": 34,
      "metadata": {
        "id": "Isyimx67xrPT"
      },
      "outputs": [
        {
          "data": {
            "text/plain": [
              "array([[ True],\n",
              "       [ True],\n",
              "       [False],\n",
              "       [ True],\n",
              "       [ True],\n",
              "       [ True],\n",
              "       [ True],\n",
              "       [False],\n",
              "       [False],\n",
              "       [ True],\n",
              "       [ True],\n",
              "       [ True],\n",
              "       [ True],\n",
              "       [ True],\n",
              "       [ True],\n",
              "       [ True],\n",
              "       [ True],\n",
              "       [False],\n",
              "       [ True],\n",
              "       [ True],\n",
              "       [ True],\n",
              "       [False],\n",
              "       [False],\n",
              "       [ True],\n",
              "       [False],\n",
              "       [ True],\n",
              "       [ True],\n",
              "       [ True],\n",
              "       [ True],\n",
              "       [ True],\n",
              "       [ True],\n",
              "       [ True],\n",
              "       [ True],\n",
              "       [False],\n",
              "       [False],\n",
              "       [ True],\n",
              "       [ True],\n",
              "       [ True],\n",
              "       [False],\n",
              "       [False],\n",
              "       [False],\n",
              "       [ True],\n",
              "       [ True],\n",
              "       [False],\n",
              "       [ True],\n",
              "       [False],\n",
              "       [False],\n",
              "       [ True],\n",
              "       [False],\n",
              "       [False],\n",
              "       [False],\n",
              "       [False],\n",
              "       [ True],\n",
              "       [ True],\n",
              "       [ True],\n",
              "       [ True],\n",
              "       [False],\n",
              "       [False],\n",
              "       [False],\n",
              "       [ True],\n",
              "       [False],\n",
              "       [ True],\n",
              "       [False],\n",
              "       [False],\n",
              "       [False],\n",
              "       [ True],\n",
              "       [False],\n",
              "       [False],\n",
              "       [False],\n",
              "       [False],\n",
              "       [ True],\n",
              "       [ True],\n",
              "       [False],\n",
              "       [ True],\n",
              "       [ True],\n",
              "       [ True],\n",
              "       [False],\n",
              "       [ True],\n",
              "       [ True],\n",
              "       [False],\n",
              "       [ True],\n",
              "       [False],\n",
              "       [ True],\n",
              "       [ True],\n",
              "       [ True],\n",
              "       [ True],\n",
              "       [False],\n",
              "       [False],\n",
              "       [False],\n",
              "       [ True],\n",
              "       [ True],\n",
              "       [False],\n",
              "       [ True],\n",
              "       [False],\n",
              "       [ True],\n",
              "       [False],\n",
              "       [False],\n",
              "       [False],\n",
              "       [ True],\n",
              "       [ True],\n",
              "       [ True],\n",
              "       [ True],\n",
              "       [False],\n",
              "       [ True],\n",
              "       [False],\n",
              "       [ True],\n",
              "       [ True],\n",
              "       [ True],\n",
              "       [ True],\n",
              "       [ True],\n",
              "       [ True],\n",
              "       [False],\n",
              "       [ True],\n",
              "       [False],\n",
              "       [False],\n",
              "       [ True],\n",
              "       [False],\n",
              "       [False],\n",
              "       [False],\n",
              "       [False],\n",
              "       [ True],\n",
              "       [False],\n",
              "       [False],\n",
              "       [False],\n",
              "       [ True],\n",
              "       [ True],\n",
              "       [ True],\n",
              "       [ True],\n",
              "       [ True],\n",
              "       [False],\n",
              "       [False],\n",
              "       [False],\n",
              "       [ True],\n",
              "       [False],\n",
              "       [False],\n",
              "       [ True],\n",
              "       [False],\n",
              "       [ True],\n",
              "       [ True],\n",
              "       [False],\n",
              "       [False],\n",
              "       [ True],\n",
              "       [ True],\n",
              "       [False],\n",
              "       [ True],\n",
              "       [ True],\n",
              "       [False],\n",
              "       [ True],\n",
              "       [ True],\n",
              "       [ True],\n",
              "       [ True],\n",
              "       [False],\n",
              "       [False],\n",
              "       [False],\n",
              "       [ True],\n",
              "       [False],\n",
              "       [False],\n",
              "       [False],\n",
              "       [ True],\n",
              "       [False],\n",
              "       [ True],\n",
              "       [False],\n",
              "       [ True],\n",
              "       [False],\n",
              "       [False],\n",
              "       [ True],\n",
              "       [ True],\n",
              "       [False],\n",
              "       [ True],\n",
              "       [ True],\n",
              "       [ True],\n",
              "       [ True],\n",
              "       [False],\n",
              "       [False],\n",
              "       [ True],\n",
              "       [ True],\n",
              "       [False],\n",
              "       [ True],\n",
              "       [ True],\n",
              "       [ True],\n",
              "       [ True],\n",
              "       [False],\n",
              "       [ True],\n",
              "       [ True],\n",
              "       [ True],\n",
              "       [False],\n",
              "       [False],\n",
              "       [False],\n",
              "       [ True],\n",
              "       [ True],\n",
              "       [ True],\n",
              "       [ True],\n",
              "       [ True],\n",
              "       [False],\n",
              "       [False],\n",
              "       [False],\n",
              "       [False],\n",
              "       [ True],\n",
              "       [ True],\n",
              "       [False],\n",
              "       [False],\n",
              "       [False],\n",
              "       [False],\n",
              "       [ True],\n",
              "       [False],\n",
              "       [ True],\n",
              "       [ True],\n",
              "       [ True],\n",
              "       [False],\n",
              "       [False],\n",
              "       [ True],\n",
              "       [False],\n",
              "       [False],\n",
              "       [ True],\n",
              "       [ True],\n",
              "       [ True],\n",
              "       [False],\n",
              "       [False],\n",
              "       [False],\n",
              "       [ True],\n",
              "       [ True],\n",
              "       [ True],\n",
              "       [False],\n",
              "       [ True],\n",
              "       [ True],\n",
              "       [ True],\n",
              "       [ True],\n",
              "       [False],\n",
              "       [ True],\n",
              "       [ True],\n",
              "       [ True],\n",
              "       [ True],\n",
              "       [ True]])"
            ]
          },
          "execution_count": 34,
          "metadata": {},
          "output_type": "execute_result"
        }
      ],
      "source": [
        "y_pred = (y_pred > 0.5)\n",
        "y_pred"
      ]
    },
    {
      "cell_type": "markdown",
      "metadata": {
        "id": "fnTxkrVzXaqP"
      },
      "source": [
        "**Testing the Model**"
      ]
    },
    {
      "cell_type": "code",
      "execution_count": 35,
      "metadata": {
        "id": "HXUWDD6vXW6t"
      },
      "outputs": [
        {
          "data": {
            "text/plain": [
              "array([0])"
            ]
          },
          "execution_count": 35,
          "metadata": {},
          "output_type": "execute_result"
        }
      ],
      "source": [
        "# Gender Married Dependents Education Self_Employed Applicant_Income Coapplicant_Income Loan_Amount Loan_Amount_Term Credit_History Property_Area\n",
        "dt.predict([[1,1, 0, 1, 1, 4276, 1542,145, 248, 0,1]])"
      ]
    },
    {
      "cell_type": "code",
      "execution_count": 36,
      "metadata": {
        "id": "9SDyVRqdXWzm"
      },
      "outputs": [
        {
          "data": {
            "text/plain": [
              "array([0])"
            ]
          },
          "execution_count": 36,
          "metadata": {},
          "output_type": "execute_result"
        }
      ],
      "source": [
        "# Gender Married Dependents Education Self_Employed Applicant_Income Coapplicant_Income Loan_Amount Loan_Amount_Term Credit_History Property_Area\n",
        "\n",
        "rf.predict([[1,1, 0, 1, 1, 4276, 1542,145, 248, 0,1]])"
      ]
    },
    {
      "cell_type": "code",
      "execution_count": 37,
      "metadata": {
        "id": "XOgCWdqcXWxA"
      },
      "outputs": [
        {
          "data": {
            "text/plain": [
              "array([1])"
            ]
          },
          "execution_count": 37,
          "metadata": {},
          "output_type": "execute_result"
        }
      ],
      "source": [
        "# Gender Married Dependents Education Self_Employed Applicant_Income Coapplicant_Income Loan_Amount Loan_Amount_Term Credit_History Property_Area\n",
        "\n",
        "knn.predict([[1,1, 0, 1, 1, 4276, 1542,145, 248, 0,1]])"
      ]
    },
    {
      "cell_type": "code",
      "execution_count": 38,
      "metadata": {
        "id": "7PpvS2KXXWuJ"
      },
      "outputs": [
        {
          "data": {
            "text/plain": [
              "array([0])"
            ]
          },
          "execution_count": 38,
          "metadata": {},
          "output_type": "execute_result"
        }
      ],
      "source": [
        "# Gender Married Dependents Education Self_Employed Applicant_Income Coapplicant_Income Loan_Amount Loan_Amount_Term Credit_History Property_Area\n",
        "\n",
        "xg.predict([[1,1, 0, 1, 1, 4276, 1542,145, 248, 0,1]])"
      ]
    },
    {
      "cell_type": "code",
      "execution_count": 39,
      "metadata": {
        "id": "WOEMv2oTXWju"
      },
      "outputs": [],
      "source": [
        "def predict_exit(sample_value):\n",
        "  # Convert list to numpy array\n",
        "  sample_value = np.array(sample_value)\n",
        "  # Reshape because sample value contains only 1 record\n",
        "  sample_value = sample_value.reshape(1, -1)\n",
        "  # Feature Scaling\n",
        "  sample_value = sc.transform(sample_value)\n",
        "  return classifier.predict(sample_value)"
      ]
    },
    {
      "cell_type": "code",
      "execution_count": 40,
      "metadata": {
        "id": "ODIyDjCpXWg5"
      },
      "outputs": [
        {
          "name": "stdout",
          "output_type": "stream",
          "text": [
            "1/1 [==============================] - 0s 43ms/step\n"
          ]
        },
        {
          "name": "stderr",
          "output_type": "stream",
          "text": [
            "/Library/Frameworks/Python.framework/Versions/3.11/lib/python3.11/site-packages/sklearn/base.py:450: UserWarning: X does not have valid feature names, but StandardScaler was fitted with feature names\n",
            "  warnings.warn(\n"
          ]
        },
        {
          "data": {
            "text/plain": [
              "array([[6.2001345e-05]], dtype=float32)"
            ]
          },
          "execution_count": 40,
          "metadata": {},
          "output_type": "execute_result"
        }
      ],
      "source": [
        "# Predictions\n",
        "# Value order Gender,Married,Dependents,Education,Self_Employed,ApplicantIncome,CoapplicantIncome,LoanAmount,Loan_Amount_Term,Credit_History,Property_Area\n",
        "sample_value = [[1, 1, 0, 1, 1, 4276, 1542,145, 240, 0, 1]]\n",
        "\n",
        "output = predict_exit(sample_value)\n",
        "output"
      ]
    },
    {
      "cell_type": "code",
      "execution_count": 41,
      "metadata": {
        "id": "0J7XU33HXWbc"
      },
      "outputs": [
        {
          "name": "stdout",
          "output_type": "stream",
          "text": [
            "1/1 [==============================] - 0s 17ms/step\n"
          ]
        },
        {
          "name": "stderr",
          "output_type": "stream",
          "text": [
            "/Library/Frameworks/Python.framework/Versions/3.11/lib/python3.11/site-packages/sklearn/base.py:450: UserWarning: X does not have valid feature names, but StandardScaler was fitted with feature names\n",
            "  warnings.warn(\n"
          ]
        },
        {
          "data": {
            "text/plain": [
              "array([[0.87796396]], dtype=float32)"
            ]
          },
          "execution_count": 41,
          "metadata": {},
          "output_type": "execute_result"
        }
      ],
      "source": [
        "# Predictions\n",
        "# Value order Gender,Married,Dependents,Education,Self_Employed,ApplicantIncome,CoapplicantIncome,LoanAmount,Loan_Amount_Term,Credit_History,Property_Area\n",
        "sample_value = [[1, 0, 1, 1, 1, 45, 14,45, 240, 1, 1]]\n",
        "\n",
        "output = predict_exit(sample_value)\n",
        "output"
      ]
    },
    {
      "cell_type": "markdown",
      "metadata": {
        "id": "2WbSuzPzsUn-"
      },
      "source": [
        "**PERFORMANCE TESTING & HYPERPARAMETER TUNING**"
      ]
    },
    {
      "cell_type": "markdown",
      "metadata": {
        "id": "Ts7wiUARwi-K"
      },
      "source": [
        "**Testing Model With Multiple Evaluation Metrics**"
      ]
    },
    {
      "cell_type": "code",
      "execution_count": 42,
      "metadata": {
        "id": "Qep3i48yskE2"
      },
      "outputs": [],
      "source": [
        "def compareModel():\n",
        "  decisionTree()\n",
        "  print('-'*100)\n",
        "  randomForest()\n",
        "  print('-'*100)\n",
        "  KNN()\n",
        "  print('-'*100)\n",
        "  xgboost()\n",
        "  print('-'*100)\n"
      ]
    },
    {
      "cell_type": "code",
      "execution_count": 43,
      "metadata": {
        "id": "T8IOsPPJsj7U"
      },
      "outputs": [
        {
          "name": "stdout",
          "output_type": "stream",
          "text": [
            "****DecisionTreeClassifier****\n",
            "Confusion matrix\n",
            "[[86 27]\n",
            " [35 85]]\n",
            "Classification report\n",
            "              precision    recall  f1-score   support\n",
            "\n",
            "           0       0.71      0.76      0.74       113\n",
            "           1       0.76      0.71      0.73       120\n",
            "\n",
            "    accuracy                           0.73       233\n",
            "   macro avg       0.73      0.73      0.73       233\n",
            "weighted avg       0.74      0.73      0.73       233\n",
            "\n",
            "----------------------------------------------------------------------------------------------------\n",
            "***RandomForestClassifier***\n",
            "Confusion matrix\n",
            "[[ 84  29]\n",
            " [ 20 100]]\n",
            "Classification report\n",
            "              precision    recall  f1-score   support\n",
            "\n",
            "           0       0.81      0.74      0.77       113\n",
            "           1       0.78      0.83      0.80       120\n",
            "\n",
            "    accuracy                           0.79       233\n",
            "   macro avg       0.79      0.79      0.79       233\n",
            "weighted avg       0.79      0.79      0.79       233\n",
            "\n",
            "----------------------------------------------------------------------------------------------------\n",
            "***KNeighborsClassifier***\n",
            "Confusion matrix\n",
            "[[ 70  43]\n",
            " [ 20 100]]\n",
            "Classification report\n",
            "              precision    recall  f1-score   support\n",
            "\n",
            "           0       0.78      0.62      0.69       113\n",
            "           1       0.70      0.83      0.76       120\n",
            "\n",
            "    accuracy                           0.73       233\n",
            "   macro avg       0.74      0.73      0.73       233\n",
            "weighted avg       0.74      0.73      0.73       233\n",
            "\n",
            "----------------------------------------------------------------------------------------------------\n",
            "****Gradient BoostingClassifier***\n",
            "Confusion matrix\n",
            "[[ 85  28]\n",
            " [ 17 103]]\n",
            "Classification report\n",
            "              precision    recall  f1-score   support\n",
            "\n",
            "           0       0.83      0.75      0.79       113\n",
            "           1       0.79      0.86      0.82       120\n",
            "\n",
            "    accuracy                           0.81       233\n",
            "   macro avg       0.81      0.81      0.81       233\n",
            "weighted avg       0.81      0.81      0.81       233\n",
            "\n",
            "----------------------------------------------------------------------------------------------------\n"
          ]
        }
      ],
      "source": [
        "compareModel()"
      ]
    },
    {
      "cell_type": "code",
      "execution_count": 44,
      "metadata": {
        "id": "o2Pd1_WAsj2J"
      },
      "outputs": [
        {
          "name": "stdout",
          "output_type": "stream",
          "text": [
            "8/8 [==============================] - 0s 575us/step\n",
            "0.7896995708154506\n",
            "ANN Model\n",
            "Confusion_Matrix\n",
            "[[ 82  31]\n",
            " [ 18 102]]\n",
            "Classification Report\n",
            "              precision    recall  f1-score   support\n",
            "\n",
            "           0       0.82      0.73      0.77       113\n",
            "           1       0.77      0.85      0.81       120\n",
            "\n",
            "    accuracy                           0.79       233\n",
            "   macro avg       0.79      0.79      0.79       233\n",
            "weighted avg       0.79      0.79      0.79       233\n",
            "\n"
          ]
        }
      ],
      "source": [
        "yPred = classifier.predict(X_test)\n",
        "print(accuracy_score(y_pred,y_test))\n",
        "print(\"ANN Model\")\n",
        "print(\"Confusion_Matrix\")\n",
        "print(confusion_matrix(y_test,y_pred))\n",
        "print(\"Classification Report\")\n",
        "print(classification_report(y_test,y_pred))"
      ]
    },
    {
      "cell_type": "markdown",
      "metadata": {
        "id": "qF_i0x5Tw315"
      },
      "source": [
        "**Comparing Model Accuracy Before & After Applying Hyperparameter Tuning**"
      ]
    },
    {
      "cell_type": "code",
      "execution_count": 45,
      "metadata": {
        "id": "e5RiqhcYsjyi"
      },
      "outputs": [],
      "source": [
        "from sklearn.model_selection import cross_val_score\n",
        "\n",
        "#Random forest model is selected\n",
        "rf = RandomForestClassifier()\n",
        "rf.fit(X_train,y_train)\n",
        "yPred = rf.predict(X_test)"
      ]
    },
    {
      "cell_type": "code",
      "execution_count": 46,
      "metadata": {
        "id": "0wfDuss8zH5G"
      },
      "outputs": [
        {
          "data": {
            "text/plain": [
              "0.8159424748299978"
            ]
          },
          "execution_count": 46,
          "metadata": {},
          "output_type": "execute_result"
        }
      ],
      "source": [
        "f1_score(yPred, y_test, average='weighted')"
      ]
    },
    {
      "cell_type": "code",
      "execution_count": 47,
      "metadata": {
        "id": "Veql42thy8cu"
      },
      "outputs": [
        {
          "data": {
            "text/plain": [
              "0.7768759163001466"
            ]
          },
          "execution_count": 47,
          "metadata": {},
          "output_type": "execute_result"
        }
      ],
      "source": [
        "cv = cross_val_score(rf,x,y,cv=5)\n",
        "np.mean(cv)"
      ]
    },
    {
      "cell_type": "code",
      "execution_count": 48,
      "metadata": {
        "id": "K4JAOkm0WTzD"
      },
      "outputs": [
        {
          "name": "stdout",
          "output_type": "stream",
          "text": [
            "Confusion matrix\n",
            "[[ 87  26]\n",
            " [ 17 103]]\n",
            "Classification report\n",
            "              precision    recall  f1-score   support\n",
            "\n",
            "           0       0.84      0.77      0.80       113\n",
            "           1       0.80      0.86      0.83       120\n",
            "\n",
            "    accuracy                           0.82       233\n",
            "   macro avg       0.82      0.81      0.81       233\n",
            "weighted avg       0.82      0.82      0.81       233\n",
            "\n"
          ]
        }
      ],
      "source": [
        "print('Confusion matrix')\n",
        "print(confusion_matrix(y_test,yPred))\n",
        "print('Classification report')\n",
        "print(classification_report(y_test, yPred))"
      ]
    },
    {
      "cell_type": "code",
      "execution_count": 49,
      "metadata": {
        "id": "w_R6leE4yJt0"
      },
      "outputs": [],
      "source": [
        "#saving the model by using pickle function\n",
        "pickle.dump(rf,open('rdf.pkl', 'wb'))"
      ]
    },
    {
      "cell_type": "code",
      "execution_count": null,
      "metadata": {
        "id": "6gh7NZP8MWuS"
      },
      "outputs": [],
      "source": []
    }
  ],
  "metadata": {
    "colab": {
      "provenance": []
    },
    "kernelspec": {
      "display_name": "Python 3",
      "name": "python3"
    },
    "language_info": {
      "codemirror_mode": {
        "name": "ipython",
        "version": 3
      },
      "file_extension": ".py",
      "mimetype": "text/x-python",
      "name": "python",
      "nbconvert_exporter": "python",
      "pygments_lexer": "ipython3",
      "version": "3.11.0"
    }
  },
  "nbformat": 4,
  "nbformat_minor": 0
}
